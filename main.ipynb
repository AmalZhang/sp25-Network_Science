{
 "cells": [
  {
   "cell_type": "markdown",
   "id": "6799c48e",
   "metadata": {},
   "source": [
    "# 坐标提取"
   ]
  },
  {
   "cell_type": "code",
   "execution_count": 6,
   "id": "13573f1f",
   "metadata": {},
   "outputs": [
    {
     "name": "stdout",
     "output_type": "stream",
     "text": [
      "🌍 共识别出 244 个唯一国家\n"
     ]
    },
    {
     "name": "stderr",
     "output_type": "stream",
     "text": [
      "查询国家坐标:  19%|█▉        | 46/244 [01:05<04:35,  1.39s/it]"
     ]
    },
    {
     "name": "stdout",
     "output_type": "stream",
     "text": [
      "[WARN] CSK: 查询失败 (404 Client Error: Not Found for url: https://restcountries.com/v3.1/alpha/CSK)\n"
     ]
    },
    {
     "name": "stderr",
     "output_type": "stream",
     "text": [
      "查询国家坐标:  21%|██        | 51/244 [01:12<04:44,  1.47s/it]"
     ]
    },
    {
     "name": "stdout",
     "output_type": "stream",
     "text": [
      "[WARN] DDR: 查询失败 (404 Client Error: Not Found for url: https://restcountries.com/v3.1/alpha/DDR)\n"
     ]
    },
    {
     "name": "stderr",
     "output_type": "stream",
     "text": [
      "查询国家坐标:  29%|██▊       | 70/244 [01:39<04:06,  1.42s/it]"
     ]
    },
    {
     "name": "stdout",
     "output_type": "stream",
     "text": [
      "[WARN] G001: 查询失败 (400 Client Error: Bad Request for url: https://restcountries.com/v3.1/alpha/G001)\n"
     ]
    },
    {
     "name": "stderr",
     "output_type": "stream",
     "text": [
      "查询国家坐标:  29%|██▉       | 71/244 [01:41<04:04,  1.41s/it]"
     ]
    },
    {
     "name": "stdout",
     "output_type": "stream",
     "text": [
      "[WARN] G080: 查询失败 (400 Client Error: Bad Request for url: https://restcountries.com/v3.1/alpha/G080)\n"
     ]
    },
    {
     "name": "stderr",
     "output_type": "stream",
     "text": [
      "查询国家坐标:  30%|██▉       | 72/244 [01:42<03:59,  1.39s/it]"
     ]
    },
    {
     "name": "stdout",
     "output_type": "stream",
     "text": [
      "[WARN] G092: 查询失败 (400 Client Error: Bad Request for url: https://restcountries.com/v3.1/alpha/G092)\n"
     ]
    },
    {
     "name": "stderr",
     "output_type": "stream",
     "text": [
      "查询国家坐标:  30%|██▉       | 73/244 [01:44<04:01,  1.41s/it]"
     ]
    },
    {
     "name": "stdout",
     "output_type": "stream",
     "text": [
      "[WARN] G110: 查询失败 (400 Client Error: Bad Request for url: https://restcountries.com/v3.1/alpha/G110)\n"
     ]
    },
    {
     "name": "stderr",
     "output_type": "stream",
     "text": [
      "查询国家坐标:  30%|███       | 74/244 [01:45<04:02,  1.42s/it]"
     ]
    },
    {
     "name": "stdout",
     "output_type": "stream",
     "text": [
      "[WARN] G163: 查询失败 (400 Client Error: Bad Request for url: https://restcountries.com/v3.1/alpha/G163)\n"
     ]
    },
    {
     "name": "stderr",
     "output_type": "stream",
     "text": [
      "查询国家坐标:  31%|███       | 75/244 [01:46<03:58,  1.41s/it]"
     ]
    },
    {
     "name": "stdout",
     "output_type": "stream",
     "text": [
      "[WARN] G200: 查询失败 (400 Client Error: Bad Request for url: https://restcountries.com/v3.1/alpha/G200)\n"
     ]
    },
    {
     "name": "stderr",
     "output_type": "stream",
     "text": [
      "查询国家坐标:  31%|███       | 76/244 [01:48<04:05,  1.46s/it]"
     ]
    },
    {
     "name": "stdout",
     "output_type": "stream",
     "text": [
      "[WARN] G205: 查询失败 (400 Client Error: Bad Request for url: https://restcountries.com/v3.1/alpha/G205)\n"
     ]
    },
    {
     "name": "stderr",
     "output_type": "stream",
     "text": [
      "查询国家坐标:  32%|███▏      | 77/244 [01:49<04:02,  1.45s/it]"
     ]
    },
    {
     "name": "stdout",
     "output_type": "stream",
     "text": [
      "[WARN] G400: 查询失败 (400 Client Error: Bad Request for url: https://restcountries.com/v3.1/alpha/G400)\n"
     ]
    },
    {
     "name": "stderr",
     "output_type": "stream",
     "text": [
      "查询国家坐标:  32%|███▏      | 78/244 [01:51<03:57,  1.43s/it]"
     ]
    },
    {
     "name": "stdout",
     "output_type": "stream",
     "text": [
      "[WARN] G505: 查询失败 (400 Client Error: Bad Request for url: https://restcountries.com/v3.1/alpha/G505)\n"
     ]
    },
    {
     "name": "stderr",
     "output_type": "stream",
     "text": [
      "查询国家坐标:  32%|███▏      | 79/244 [01:52<03:51,  1.40s/it]"
     ]
    },
    {
     "name": "stdout",
     "output_type": "stream",
     "text": [
      "[WARN] G603: 查询失败 (400 Client Error: Bad Request for url: https://restcountries.com/v3.1/alpha/G603)\n"
     ]
    },
    {
     "name": "stderr",
     "output_type": "stream",
     "text": [
      "查询国家坐标:  33%|███▎      | 80/244 [01:54<03:53,  1.42s/it]"
     ]
    },
    {
     "name": "stdout",
     "output_type": "stream",
     "text": [
      "[WARN] G903: 查询失败 (400 Client Error: Bad Request for url: https://restcountries.com/v3.1/alpha/G903)\n"
     ]
    },
    {
     "name": "stderr",
     "output_type": "stream",
     "text": [
      "查询国家坐标:  33%|███▎      | 81/244 [01:55<03:48,  1.40s/it]"
     ]
    },
    {
     "name": "stdout",
     "output_type": "stream",
     "text": [
      "[WARN] G998: 查询失败 (400 Client Error: Bad Request for url: https://restcountries.com/v3.1/alpha/G998)\n"
     ]
    },
    {
     "name": "stderr",
     "output_type": "stream",
     "text": [
      "查询国家坐标:  40%|███▉      | 97/244 [02:18<03:27,  1.41s/it]"
     ]
    },
    {
     "name": "stdout",
     "output_type": "stream",
     "text": [
      "[WARN] GX170: 查询失败 (400 Client Error: Bad Request for url: https://restcountries.com/v3.1/alpha/GX170)\n"
     ]
    },
    {
     "name": "stderr",
     "output_type": "stream",
     "text": [
      "查询国家坐标:  40%|████      | 98/244 [02:19<03:24,  1.40s/it]"
     ]
    },
    {
     "name": "stdout",
     "output_type": "stream",
     "text": [
      "[WARN] GX405: 查询失败 (400 Client Error: Bad Request for url: https://restcountries.com/v3.1/alpha/GX405)\n"
     ]
    },
    {
     "name": "stderr",
     "output_type": "stream",
     "text": [
      "查询国家坐标:  41%|████      | 99/244 [02:21<03:24,  1.41s/it]"
     ]
    },
    {
     "name": "stdout",
     "output_type": "stream",
     "text": [
      "[WARN] GX440: 查询失败 (400 Client Error: Bad Request for url: https://restcountries.com/v3.1/alpha/GX440)\n"
     ]
    },
    {
     "name": "stderr",
     "output_type": "stream",
     "text": [
      "查询国家坐标:  41%|████      | 100/244 [02:22<03:19,  1.38s/it]"
     ]
    },
    {
     "name": "stdout",
     "output_type": "stream",
     "text": [
      "[WARN] GX605: 查询失败 (400 Client Error: Bad Request for url: https://restcountries.com/v3.1/alpha/GX605)\n"
     ]
    },
    {
     "name": "stderr",
     "output_type": "stream",
     "text": [
      "查询国家坐标:  41%|████▏     | 101/244 [02:23<03:18,  1.39s/it]"
     ]
    },
    {
     "name": "stdout",
     "output_type": "stream",
     "text": [
      "[WARN] GX901: 查询失败 (400 Client Error: Bad Request for url: https://restcountries.com/v3.1/alpha/GX901)\n"
     ]
    },
    {
     "name": "stderr",
     "output_type": "stream",
     "text": [
      "查询国家坐标:  75%|███████▍  | 182/244 [04:19<01:26,  1.39s/it]"
     ]
    },
    {
     "name": "stdout",
     "output_type": "stream",
     "text": [
      "[WARN] SCG: 查询失败 (404 Client Error: Not Found for url: https://restcountries.com/v3.1/alpha/SCG)\n"
     ]
    },
    {
     "name": "stderr",
     "output_type": "stream",
     "text": [
      "查询国家坐标:  80%|███████▉  | 194/244 [04:35<01:08,  1.37s/it]"
     ]
    },
    {
     "name": "stdout",
     "output_type": "stream",
     "text": [
      "[WARN] SUN: 查询失败 (404 Client Error: Not Found for url: https://restcountries.com/v3.1/alpha/SUN)\n"
     ]
    },
    {
     "name": "stderr",
     "output_type": "stream",
     "text": [
      "查询国家坐标:  89%|████████▊ | 216/244 [05:06<00:39,  1.39s/it]"
     ]
    },
    {
     "name": "stdout",
     "output_type": "stream",
     "text": [
      "[WARN] TX126: 查询失败 (400 Client Error: Bad Request for url: https://restcountries.com/v3.1/alpha/TX126)\n"
     ]
    },
    {
     "name": "stderr",
     "output_type": "stream",
     "text": [
      "查询国家坐标:  89%|████████▉ | 217/244 [05:08<00:38,  1.42s/it]"
     ]
    },
    {
     "name": "stdout",
     "output_type": "stream",
     "text": [
      "[WARN] TX399: 查询失败 (400 Client Error: Bad Request for url: https://restcountries.com/v3.1/alpha/TX399)\n"
     ]
    },
    {
     "name": "stderr",
     "output_type": "stream",
     "text": [
      "查询国家坐标:  89%|████████▉ | 218/244 [05:09<00:36,  1.40s/it]"
     ]
    },
    {
     "name": "stdout",
     "output_type": "stream",
     "text": [
      "[WARN] TX489: 查询失败 (400 Client Error: Bad Request for url: https://restcountries.com/v3.1/alpha/TX489)\n",
      "[WARN] TX598: 查询失败 (400 Client Error: Bad Request for url: https://restcountries.com/v3.1/alpha/TX598)\n"
     ]
    },
    {
     "name": "stderr",
     "output_type": "stream",
     "text": [
      "查询国家坐标:  90%|█████████ | 220/244 [05:12<00:34,  1.42s/it]"
     ]
    },
    {
     "name": "stdout",
     "output_type": "stream",
     "text": [
      "[WARN] TX799: 查询失败 (400 Client Error: Bad Request for url: https://restcountries.com/v3.1/alpha/TX799)\n",
      "[WARN] TX884: 查询失败 (400 Client Error: Bad Request for url: https://restcountries.com/v3.1/alpha/TX884)\n"
     ]
    },
    {
     "name": "stderr",
     "output_type": "stream",
     "text": [
      "查询国家坐标:  91%|█████████ | 222/244 [05:15<00:31,  1.41s/it]"
     ]
    },
    {
     "name": "stdout",
     "output_type": "stream",
     "text": [
      "[WARN] TX898: 查询失败 (400 Client Error: Bad Request for url: https://restcountries.com/v3.1/alpha/TX898)\n"
     ]
    },
    {
     "name": "stderr",
     "output_type": "stream",
     "text": [
      "查询国家坐标:  91%|█████████▏| 223/244 [05:16<00:29,  1.38s/it]"
     ]
    },
    {
     "name": "stdout",
     "output_type": "stream",
     "text": [
      "[WARN] TX899: 查询失败 (400 Client Error: Bad Request for url: https://restcountries.com/v3.1/alpha/TX899)\n",
      "[WARN] TX910: 查询失败 (400 Client Error: Bad Request for url: https://restcountries.com/v3.1/alpha/TX910)\n"
     ]
    },
    {
     "name": "stderr",
     "output_type": "stream",
     "text": [
      "查询国家坐标:  97%|█████████▋| 236/244 [05:34<00:11,  1.42s/it]"
     ]
    },
    {
     "name": "stdout",
     "output_type": "stream",
     "text": [
      "[WARN] WBG: 查询失败 (404 Client Error: Not Found for url: https://restcountries.com/v3.1/alpha/WBG)\n"
     ]
    },
    {
     "name": "stderr",
     "output_type": "stream",
     "text": [
      "查询国家坐标:  98%|█████████▊| 238/244 [05:37<00:08,  1.39s/it]"
     ]
    },
    {
     "name": "stdout",
     "output_type": "stream",
     "text": [
      "[WARN] YAR: 查询失败 (404 Client Error: Not Found for url: https://restcountries.com/v3.1/alpha/YAR)\n"
     ]
    },
    {
     "name": "stderr",
     "output_type": "stream",
     "text": [
      "查询国家坐标:  98%|█████████▊| 240/244 [05:40<00:05,  1.40s/it]"
     ]
    },
    {
     "name": "stdout",
     "output_type": "stream",
     "text": [
      "[WARN] YMD: 查询失败 (404 Client Error: Not Found for url: https://restcountries.com/v3.1/alpha/YMD)\n"
     ]
    },
    {
     "name": "stderr",
     "output_type": "stream",
     "text": [
      "查询国家坐标:  99%|█████████▉| 241/244 [05:41<00:04,  1.38s/it]"
     ]
    },
    {
     "name": "stdout",
     "output_type": "stream",
     "text": [
      "[WARN] YUG: 查询失败 (404 Client Error: Not Found for url: https://restcountries.com/v3.1/alpha/YUG)\n"
     ]
    },
    {
     "name": "stderr",
     "output_type": "stream",
     "text": [
      "查询国家坐标: 100%|██████████| 244/244 [05:45<00:00,  1.42s/it]"
     ]
    },
    {
     "name": "stdout",
     "output_type": "stream",
     "text": [
      "✅ 已保存 → iso3_to_latlon.csv\n"
     ]
    },
    {
     "name": "stderr",
     "output_type": "stream",
     "text": [
      "\n"
     ]
    }
   ],
   "source": [
    "import pandas as pd\n",
    "import requests\n",
    "from time import sleep\n",
    "from tqdm import tqdm\n",
    "\n",
    "# === 步骤 1：读取 IMF 数据，提取唯一国家 ===\n",
    "csv_path = \"IMF_IMTS_Exports_2016_2024.csv\"  # ← 修改为你的文件路径\n",
    "df = pd.read_csv(csv_path, low_memory=False)\n",
    "\n",
    "# 提取报告国和伙伴国的 ISO3 列\n",
    "iso_reporters = df[\"COUNTRY.ID\"].dropna().unique()\n",
    "iso_partners = df[\"COUNTERPART_COUNTRY.ID\"].dropna().unique()\n",
    "\n",
    "# 合并去重\n",
    "iso3_list = sorted(set(iso_reporters).union(set(iso_partners)))\n",
    "\n",
    "print(f\"🌍 共识别出 {len(iso3_list)} 个唯一国家\")\n",
    "\n",
    "# === 步骤 2：查询经纬度 ===\n",
    "records = []\n",
    "for iso3 in tqdm(iso3_list, desc=\"查询国家坐标\"):\n",
    "    try:\n",
    "        r = requests.get(f\"https://restcountries.com/v3.1/alpha/{iso3}\", timeout=10)\n",
    "        r.raise_for_status()\n",
    "        js = r.json()\n",
    "        lat, lon = js[0][\"latlng\"]\n",
    "        records.append((iso3, lat, lon))\n",
    "    except Exception as e:\n",
    "        print(f\"[WARN] {iso3}: 查询失败 ({e})\")\n",
    "        records.append((iso3, None, None))\n",
    "    sleep(0.2)  # 避免触发 API 限速\n",
    "\n",
    "# === 步骤 3：保存为 CSV 映射表 ===\n",
    "df_coords = pd.DataFrame(records, columns=[\"ISO3\", \"Lat\", \"Lon\"])\n",
    "df_coords.to_csv(\"iso3_to_latlon.csv\", index=False)\n",
    "print(\"✅ 已保存 → iso3_to_latlon.csv\")\n"
   ]
  },
  {
   "cell_type": "markdown",
   "id": "25e0c5b0",
   "metadata": {},
   "source": [
    "# Global Export Network\n"
   ]
  },
  {
   "cell_type": "code",
   "execution_count": null,
   "id": "bae988ce",
   "metadata": {},
   "outputs": [
    {
     "name": "stderr",
     "output_type": "stream",
     "text": [
      "C:\\Users\\12693\\AppData\\Local\\Temp\\ipykernel_24340\\3846095075.py:112: MatplotlibDeprecationWarning: The get_cmap function was deprecated in Matplotlib 3.7 and will be removed in 3.11. Use ``matplotlib.colormaps[name]`` or ``matplotlib.colormaps.get_cmap()`` or ``pyplot.get_cmap()`` instead.\n",
      "  cmap = cm.get_cmap(\"YlOrRd\")\n"
     ]
    },
    {
     "name": "stdout",
     "output_type": "stream",
     "text": [
      "Year 1948: edges≈5,552\n"
     ]
    },
    {
     "name": "stderr",
     "output_type": "stream",
     "text": [
      "C:\\Users\\12693\\AppData\\Local\\Temp\\ipykernel_24340\\3846095075.py:112: MatplotlibDeprecationWarning: The get_cmap function was deprecated in Matplotlib 3.7 and will be removed in 3.11. Use ``matplotlib.colormaps[name]`` or ``matplotlib.colormaps.get_cmap()`` or ``pyplot.get_cmap()`` instead.\n",
      "  cmap = cm.get_cmap(\"YlOrRd\")\n"
     ]
    },
    {
     "name": "stdout",
     "output_type": "stream",
     "text": [
      "Year 1949: edges≈5,052\n"
     ]
    },
    {
     "name": "stderr",
     "output_type": "stream",
     "text": [
      "C:\\Users\\12693\\AppData\\Local\\Temp\\ipykernel_24340\\3846095075.py:112: MatplotlibDeprecationWarning: The get_cmap function was deprecated in Matplotlib 3.7 and will be removed in 3.11. Use ``matplotlib.colormaps[name]`` or ``matplotlib.colormaps.get_cmap()`` or ``pyplot.get_cmap()`` instead.\n",
      "  cmap = cm.get_cmap(\"YlOrRd\")\n"
     ]
    }
   ],
   "source": [
    "\"\"\"\n",
    "IMF IMTS CSV → 全球出口网络 (多年份可滑动查看)\n",
    "================================================\n",
    "\n",
    "依赖:\n",
    "    pip install pandas networkx folium tqdm branca\n",
    "\n",
    "用法:\n",
    "    1. 将 IMF 下载的 Timeseries‑per‑row CSV 放到同目录\n",
    "    2. 准备 iso3_to_latlon.csv (ISO3,Lat,Lon)\n",
    "    3. 修改 FILE_CSV、YEAR_START、YEAR_END、TOP_K_FLOW 等参数\n",
    "    4. python imf_trade_map_range.py\n",
    "\n",
    "产物:\n",
    "    · imf_trade_network_<START>_<END>.html —— 多年份可交互地图\n",
    "\n",
    "功能概述:\n",
    "    * 读取并清洗 IMF IMTS 出口数据\n",
    "    * 为给定年份区间 (闭区间) 构建各年份的全球出口网络 (节点 + 边)\n",
    "    * 每个年份生成一个 Folium LayerGroup\n",
    "    * 注入自定义 Leaflet Slider —— 拖动即可在年份图层间切换\n",
    "\"\"\"\n",
    "from __future__ import annotations\n",
    "import math\n",
    "from pathlib import Path\n",
    "from typing import Dict, Tuple, List\n",
    "\n",
    "import pandas as pd\n",
    "import networkx as nx\n",
    "import folium\n",
    "from folium.plugins import AntPath\n",
    "from tqdm import tqdm\n",
    "from matplotlib import cm, colors\n",
    "from branca.element import MacroElement, Template\n",
    "\n",
    "# ================ 参数区 ================\n",
    "FILE_CSV    = \"IMF_IMTS_Exports_1948_2024.csv\"  # IMF CSV 文件\n",
    "YEAR_START  = 1948                               # 起始年份 (含)\n",
    "YEAR_END    = 2024                               # 结束年份 (含)\n",
    "TOP_K_FLOW  = 100                                # 每年绘制前 K 条边\n",
    "EDGE_STYLE  = \"poly\"                            # \"poly\" | \"ant\"\n",
    "MIN_TRADE   = None                               # 最小贸易额阈值 (None 关闭)\n",
    "COORD_CSV   = \"iso3_to_latlon.csv\"              # 国家坐标表\n",
    "# =======================================\n",
    "\n",
    "\n",
    "# ---------- ① 加载本地坐标 ----------\n",
    "\n",
    "def load_coord_dict(filepath: str | Path) -> Dict[str, Tuple[float | None, float | None]]:\n",
    "    \"\"\"读取 ISO3 → (lat, lon) 映射\"\"\"\n",
    "    df = pd.read_csv(filepath)\n",
    "    mapping = {}\n",
    "    for _, row in df.iterrows():\n",
    "        lat, lon = row.Lat, row.Lon\n",
    "        if pd.isna(lat) or pd.isna(lon):\n",
    "            lat, lon = None, None\n",
    "        mapping[row.ISO3] = (lat, lon)\n",
    "    return mapping\n",
    "\n",
    "\n",
    "coord_dict: Dict[str, Tuple[float | None, float | None]] = load_coord_dict(COORD_CSV)\n",
    "\n",
    "\n",
    "# ---------- ② 读取并清洗贸易数据 ----------\n",
    "\n",
    "def load_exports_from_csv(csv_path: str | Path, year: int) -> pd.DataFrame:\n",
    "    \"\"\"读取指定年份的出口数据并清洗 (去 NaN / 自环 / 负值)\"\"\"\n",
    "    cols = [\"COUNTRY.ID\", \"COUNTERPART_COUNTRY.ID\", str(year)]\n",
    "    df = (\n",
    "        pd.read_csv(csv_path, low_memory=False)[cols]\n",
    "        .rename(\n",
    "            columns={\n",
    "                \"COUNTRY.ID\": \"reporter\",\n",
    "                \"COUNTERPART_COUNTRY.ID\": \"partner\",\n",
    "                str(year): \"value\",\n",
    "            }\n",
    "        )\n",
    "        .dropna(subset=[\"value\"])\n",
    "    )\n",
    "    df = df[df[\"value\"] > 0]\n",
    "    df = df[df[\"reporter\"] != df[\"partner\"]]  # 去自环\n",
    "    if MIN_TRADE is not None:\n",
    "        df = df[df[\"value\"] > MIN_TRADE]\n",
    "    return df.reset_index(drop=True)\n",
    "\n",
    "\n",
    "# ---------- ③ 坐标查询 ----------\n",
    "\n",
    "def get_latlon(iso3: str) -> Tuple[float | None, float | None]:\n",
    "    return coord_dict.get(iso3, (None, None))\n",
    "\n",
    "\n",
    "# ---------- ④ 生成单年份图层 ----------\n",
    "\n",
    "def build_year_layer(\n",
    "    df: pd.DataFrame,\n",
    "    year: int,\n",
    "    top_k: int = 300,\n",
    "    edge_style: str = \"poly\",\n",
    ") -> folium.FeatureGroup:\n",
    "    \"\"\"将单一年份的节点 & 边绘制进 FeatureGroup\"\"\"\n",
    "\n",
    "    # 只保留坐标完整的国家\n",
    "    iso_valid = {\n",
    "        iso for iso, (lat, lon) in coord_dict.items() if None not in (lat, lon)\n",
    "    }\n",
    "    df = df[df[\"reporter\"].isin(iso_valid) & df[\"partner\"].isin(iso_valid)]\n",
    "\n",
    "    # 颜色与宽度映射 \n",
    "    vmin, vmax = df[\"value\"].min(), df[\"value\"].max()\n",
    "    norm = colors.Normalize(vmin=max(vmin, 1), vmax=vmax)\n",
    "    cmap = cm.get_cmap(\"YlOrRd\")\n",
    "\n",
    "    def edge_color(val):\n",
    "        return colors.rgb2hex(cmap(norm(val)))\n",
    "\n",
    "    def edge_weight(val):\n",
    "        return 0.6 + 3 * norm(val)\n",
    "\n",
    "    # FeatureGroup —— 之后注入到主图层\n",
    "    fg = folium.FeatureGroup(name=str(year), show=False)\n",
    "\n",
    "    # --- 节点 (以 reporter 总出口额计大小) ---------------------------\n",
    "    out_sum = df.groupby(\"reporter\")[\"value\"].sum()\n",
    "    for iso3, total in out_sum.items():\n",
    "        lat, lon = get_latlon(iso3)\n",
    "        radius = max(1.5, (total ** 0.5) / 150)\n",
    "        folium.CircleMarker(\n",
    "            [lat, lon],\n",
    "            radius=radius,\n",
    "            tooltip=f\"{iso3}: {total:,.0f} USD exports\",\n",
    "            color=\"#0066cc\",\n",
    "            fill=True,\n",
    "            fill_opacity=0.7,\n",
    "        ).add_to(fg)\n",
    "\n",
    "    # --- 边：取出口额最高 top_k --------------------------------------\n",
    "    edges = df.nlargest(top_k, \"value\")\n",
    "    for _, r in edges.iterrows():\n",
    "        lat1, lon1 = get_latlon(r.reporter)\n",
    "        lat2, lon2 = get_latlon(r.partner)\n",
    "        w, c = edge_weight(r.value), edge_color(r.value)\n",
    "\n",
    "        if edge_style == \"ant\":\n",
    "            AntPath(\n",
    "                [[lat1, lon1], [lat2, lon2]],\n",
    "                weight=w,\n",
    "                color=c,\n",
    "                dash_array=[10, 15],\n",
    "                delay=400,\n",
    "                opacity=0.75,\n",
    "            ).add_to(fg)\n",
    "        else:\n",
    "            folium.PolyLine(\n",
    "                [[lat1, lon1], [lat2, lon2]],\n",
    "                weight=w,\n",
    "                color=c,\n",
    "                opacity=0.75,\n",
    "            ).add_to(fg)\n",
    "\n",
    "    return fg\n",
    "\n",
    "\n",
    "# ---------- ⑤ 自定义年份滑块控件 ----------\n",
    "class YearSlider(MacroElement):\n",
    "    \"\"\"Leaflet slider 控件: 拖动切换年份图层\"\"\"\n",
    "\n",
    "    _template = Template(\n",
    "        \"\"\"\n",
    "        {% macro script(this, kwargs) %}\n",
    "            // 创建容器\n",
    "            var sliderContainer = L.DomUtil.create('div', 'year-slider');\n",
    "            sliderContainer.innerHTML = '<input type=\"range\" min=\"{{ this.min_year }}\" max=\"{{ this.max_year }}\" value=\"{{ this.start_year }}\" step=\"1\" id=\"yearSlider\"> <span id=\"yearLabel\">{{ this.start_year }}</span>';\n",
    "            \n",
    "            L.DomEvent.disableClickPropagation(sliderContainer);\n",
    "            L.DomEvent.disableScrollPropagation(sliderContainer);\n",
    "            \n",
    "            sliderContainer.style.position = 'fixed';\n",
    "            sliderContainer.style.bottom = '50px';\n",
    "            sliderContainer.style.left = '50px';\n",
    "            sliderContainer.style.zIndex = '9999';\n",
    "            sliderContainer.style.background = 'white';\n",
    "            sliderContainer.style.padding = '10px';\n",
    "            sliderContainer.style.borderRadius = '4px';\n",
    "            sliderContainer.style.boxShadow = '0 0 15px rgba(0,0,0,0.2)';\n",
    "            {{ this._parent.get_name() }}.getContainer().appendChild(sliderContainer);\n",
    "\n",
    "            // 年份 → LayerGroup 映射\n",
    "            var layerGroups = {\n",
    "            {% for y, name in this.year_layer_names.items() %}\n",
    "                \"{{ y }}\": {{ name }},\n",
    "            {% endfor %}\n",
    "            };\n",
    "\n",
    "            // 显示指定年份图层\n",
    "            function showYearLayer(y) {\n",
    "                Object.keys(layerGroups).forEach(function(k) {\n",
    "                    if (k === y) {\n",
    "                        if (!{{ this._parent.get_name() }}.hasLayer(layerGroups[k])) {\n",
    "                            {{ this._parent.get_name() }}.addLayer(layerGroups[k]);\n",
    "                        }\n",
    "                    } else {\n",
    "                        if ({{ this._parent.get_name() }}.hasLayer(layerGroups[k])) {\n",
    "                            {{ this._parent.get_name() }}.removeLayer(layerGroups[k]);\n",
    "                        }\n",
    "                    }\n",
    "                });\n",
    "            }\n",
    "\n",
    "            // 事件绑定\n",
    "            document.getElementById('yearSlider').addEventListener('input', function(e) {\n",
    "                var y = e.target.value;\n",
    "                document.getElementById('yearLabel').innerHTML = y;\n",
    "                showYearLayer(y);\n",
    "            });\n",
    "\n",
    "            // 初始化\n",
    "            showYearLayer(String({{ this.start_year }}));\n",
    "        {% endmacro %}\n",
    "        \"\"\"\n",
    "    )\n",
    "\n",
    "    def __init__(self, start_year: int, min_year: int, max_year: int, year_layer_names: Dict[int, str]):\n",
    "        super().__init__()\n",
    "        self._name = \"YearSlider\"\n",
    "        self.start_year = start_year\n",
    "        self.min_year = min_year\n",
    "        self.max_year = max_year\n",
    "        self.year_layer_names = year_layer_names\n",
    "\n",
    "\n",
    "# ---------- ⑥ 主流程 ----------\n",
    "\n",
    "def main():\n",
    "    # ---------------- 创建底图 ----------------\n",
    "    m = folium.Map(location=[20, 0], zoom_start=2, tiles=\"cartodbpositron\")\n",
    "\n",
    "    year_layer_varnames: Dict[int, str] = {}\n",
    "\n",
    "    # ---------------- 按年生成图层 ----------------\n",
    "    for year in range(YEAR_START, YEAR_END + 1):\n",
    "        df_year = load_exports_from_csv(FILE_CSV, year)\n",
    "        fg_year = build_year_layer(df_year, year, TOP_K_FLOW, EDGE_STYLE)\n",
    "        fg_year.add_to(m)\n",
    "        year_layer_varnames[year] = fg_year.get_name()\n",
    "        print(f\"Year {year}: edges≈{len(df_year):,}\")\n",
    "\n",
    "\n",
    "    # ---------------- 年份滑块 ----------------\n",
    "    slider = YearSlider(\n",
    "        start_year=YEAR_START,\n",
    "        min_year=YEAR_START,\n",
    "        max_year=YEAR_END,\n",
    "        year_layer_names=year_layer_varnames,\n",
    "    )\n",
    "    m.add_child(slider)\n",
    "\n",
    "    # ---------------- 标题 ----------------\n",
    "    title_html = (\n",
    "        f\"<h4 style='text-align:center;font-size:20px'>IMF IMTS Global Export Network — {YEAR_START}-{YEAR_END}</h4>\"\n",
    "    )\n",
    "    m.get_root().html.add_child(folium.Element(title_html))\n",
    "\n",
    "    # ---------------- 保存 ----------------\n",
    "    outfile = f\"imf_trade_network_{YEAR_START}_{YEAR_END}.html\"\n",
    "    m.save(outfile)\n",
    "    print(f\"Map saved → {outfile}\")\n",
    "\n",
    "\n",
    "if __name__ == \"__main__\":\n",
    "    main()\n"
   ]
  },
  {
   "cell_type": "markdown",
   "id": "810f0843",
   "metadata": {},
   "source": [
    "# Top N Exporters and their Partners"
   ]
  },
  {
   "cell_type": "code",
   "execution_count": null,
   "id": "a45d696c",
   "metadata": {},
   "outputs": [
    {
     "name": "stderr",
     "output_type": "stream",
     "text": [
      "Build layers:   0%|          | 0/77 [00:00<?, ?it/s]\n"
     ]
    },
    {
     "ename": "NameError",
     "evalue": "name 'load_exports_from_csv' is not defined",
     "output_type": "error",
     "traceback": [
      "\u001b[31m---------------------------------------------------------------------------\u001b[39m",
      "\u001b[31mNameError\u001b[39m                                 Traceback (most recent call last)",
      "\u001b[36mCell\u001b[39m\u001b[36m \u001b[39m\u001b[32mIn[2]\u001b[39m\u001b[32m, line 178\u001b[39m\n\u001b[32m    175\u001b[39m YEAR_START, YEAR_END = \u001b[32m1948\u001b[39m, \u001b[32m2024\u001b[39m   \u001b[38;5;66;03m# 自行设定区间\u001b[39;00m\n\u001b[32m    176\u001b[39m years_range = \u001b[38;5;28mrange\u001b[39m(YEAR_START, YEAR_END + \u001b[32m1\u001b[39m)\n\u001b[32m--> \u001b[39m\u001b[32m178\u001b[39m topn_map = \u001b[43mmake_topn_slider_map\u001b[49m\u001b[43m(\u001b[49m\n\u001b[32m    179\u001b[39m \u001b[43m    \u001b[49m\u001b[43mcsv_path\u001b[49m\u001b[43m=\u001b[49m\u001b[43mFILE_CSV\u001b[49m\u001b[43m,\u001b[49m\n\u001b[32m    180\u001b[39m \u001b[43m    \u001b[49m\u001b[43myears\u001b[49m\u001b[43m=\u001b[49m\u001b[43myears_range\u001b[49m\u001b[43m,\u001b[49m\n\u001b[32m    181\u001b[39m \u001b[43m    \u001b[49m\u001b[43mk_countries\u001b[49m\u001b[43m=\u001b[49m\u001b[32;43m8\u001b[39;49m\u001b[43m,\u001b[49m\n\u001b[32m    182\u001b[39m \u001b[43m    \u001b[49m\u001b[43mn_edges\u001b[49m\u001b[43m=\u001b[49m\u001b[32;43m6\u001b[39;49m\u001b[43m,\u001b[49m\n\u001b[32m    183\u001b[39m \u001b[43m    \u001b[49m\u001b[43medge_style\u001b[49m\u001b[43m=\u001b[49m\u001b[33;43m\"\u001b[39;49m\u001b[33;43mpoly\u001b[39;49m\u001b[33;43m\"\u001b[39;49m\u001b[43m,\u001b[49m\u001b[43m      \u001b[49m\u001b[38;5;66;43;03m# 或 \"ant\"\u001b[39;49;00m\n\u001b[32m    184\u001b[39m \u001b[43m    \u001b[49m\u001b[43mcmap_name\u001b[49m\u001b[43m=\u001b[49m\u001b[33;43m\"\u001b[39;49m\u001b[33;43mtab10\u001b[39;49m\u001b[33;43m\"\u001b[39;49m\n\u001b[32m    185\u001b[39m \u001b[43m)\u001b[49m\n\u001b[32m    186\u001b[39m topn_map.save(\u001b[33mf\u001b[39m\u001b[33m\"\u001b[39m\u001b[33mtop_exporters_\u001b[39m\u001b[38;5;132;01m{\u001b[39;00mYEAR_START\u001b[38;5;132;01m}\u001b[39;00m\u001b[33m_\u001b[39m\u001b[38;5;132;01m{\u001b[39;00mYEAR_END\u001b[38;5;132;01m}\u001b[39;00m\u001b[33m.html\u001b[39m\u001b[33m\"\u001b[39m)\n",
      "\u001b[36mCell\u001b[39m\u001b[36m \u001b[39m\u001b[32mIn[2]\u001b[39m\u001b[32m, line 160\u001b[39m, in \u001b[36mmake_topn_slider_map\u001b[39m\u001b[34m(csv_path, years, k_countries, n_edges, edge_style, cmap_name)\u001b[39m\n\u001b[32m    157\u001b[39m layer_names = {}\n\u001b[32m    159\u001b[39m \u001b[38;5;28;01mfor\u001b[39;00m y \u001b[38;5;129;01min\u001b[39;00m tqdm(years, desc=\u001b[33m\"\u001b[39m\u001b[33mBuild layers\u001b[39m\u001b[33m\"\u001b[39m):\n\u001b[32m--> \u001b[39m\u001b[32m160\u001b[39m     df_year = \u001b[43mload_exports_from_csv\u001b[49m(csv_path, y)\n\u001b[32m    161\u001b[39m     layer   = build_topn_layer(df_year, y,\n\u001b[32m    162\u001b[39m                                k_countries=k_countries,\n\u001b[32m    163\u001b[39m                                n_edges=n_edges,\n\u001b[32m    164\u001b[39m                                edge_style=edge_style,\n\u001b[32m    165\u001b[39m                                cmap_name=cmap_name)\n\u001b[32m    166\u001b[39m     layer.add_to(m)\n",
      "\u001b[31mNameError\u001b[39m: name 'load_exports_from_csv' is not defined"
     ]
    }
   ],
   "source": [
    "# -*- coding: utf-8 -*-\n",
    "import folium\n",
    "from folium.plugins import AntPath\n",
    "from branca.element import MacroElement, Template\n",
    "from matplotlib import cm, colors\n",
    "import seaborn as sns\n",
    "import pandas as pd\n",
    "from tqdm import tqdm\n",
    "\n",
    "# ---------------- 单一年份图层 ----------------\n",
    "# ---------- 单年图层（前 k 出口国 × 各自前 n 边，蓝色节点版） ----------\n",
    "def build_topn_layer(\n",
    "    df: pd.DataFrame,\n",
    "    year: int,\n",
    "    k_countries: int = 8,\n",
    "    n_edges: int = 6,\n",
    "    edge_style: str = \"poly\",\n",
    "    cmap_name: str = \"tab10\",\n",
    "    partner_radius: int = 2          # ★ 伙伴国节点固定半径\n",
    ") -> folium.FeatureGroup:\n",
    "\n",
    "    # 0️⃣ 过滤无坐标节点 ------------------------------------------------\n",
    "    iso_valid = {\n",
    "        iso for iso in set(df[\"reporter\"]).union(df[\"partner\"])\n",
    "        if get_latlon(iso)[0] is not None\n",
    "    }\n",
    "    df = df[df[\"reporter\"].isin(iso_valid) & df[\"partner\"].isin(iso_valid)]\n",
    "\n",
    "    # ① 核心国家 -------------------------------------------------------\n",
    "    country_sum_raw = (df.groupby(\"reporter\")[\"value\"]\n",
    "                         .sum()\n",
    "                         .sort_values(ascending=False))\n",
    "\n",
    "    core_list = []\n",
    "    for iso in country_sum_raw.index:\n",
    "        core_list.append(iso)\n",
    "        if len(core_list) == k_countries:\n",
    "            break\n",
    "    core_sum = country_sum_raw.loc[core_list]\n",
    "\n",
    "    # —— 颜色映射：核心各异、伙伴灰 ------------------------------------\n",
    "    core_palette    = sns.color_palette(cmap_name, n_colors=len(core_list)).as_hex()\n",
    "    color_map_core  = {iso: core_palette[i] for i, iso in enumerate(core_list)}\n",
    "    color_partner   = \"#888888\"\n",
    "\n",
    "    # ② 每核心国前 n 边 ------------------------------------------------\n",
    "    edges = pd.concat(\n",
    "        [df[df[\"reporter\"] == iso]\n",
    "           .nlargest(n_edges, \"value\")\n",
    "           .assign(core=iso)\n",
    "         for iso in core_list],\n",
    "        ignore_index=True\n",
    "    )\n",
    "\n",
    "    # ③ 伙伴国出口额近似 ----------------------------------------------\n",
    "    partner_set = set(edges[\"partner\"]) - set(core_list)\n",
    "\n",
    "    partner_sum = (df[df[\"reporter\"].isin(partner_set)]\n",
    "                     .groupby(\"reporter\")[\"value\"].sum())\n",
    "    partner_sum = partner_sum.combine_first(\n",
    "        edges.groupby(\"partner\")[\"value\"].sum()\n",
    "    )\n",
    "\n",
    "    node_sum = pd.concat([core_sum, partner_sum])\n",
    "    for iso in partner_set - set(node_sum.index):\n",
    "        node_sum.loc[iso] = 1  # 占位\n",
    "\n",
    "    # ④ 边宽 ----------------------------------------------------------\n",
    "    vmin, vmax   = edges[\"value\"].min(), edges[\"value\"].max()\n",
    "    norm         = colors.Normalize(vmin=max(vmin, 1), vmax=vmax)\n",
    "    edge_weight  = lambda v: 0.6 + 3 * norm(v)\n",
    "\n",
    "    # ⑤ Folium 图层 ---------------------------------------------------\n",
    "    fg = folium.FeatureGroup(name=str(year), show=False)\n",
    "\n",
    "    # —— 绘节点 --------------------------------------------------------\n",
    "    for iso, total in node_sum.items():\n",
    "        lat, lon = get_latlon(iso)\n",
    "        if iso in core_list:\n",
    "            radius = max(1.5, (total ** 0.5) / 150)      # 核心国：随出口额\n",
    "            col    = color_map_core[iso]\n",
    "        else:\n",
    "            radius = partner_radius                    # 伙伴国：固定\n",
    "            col    = color_partner\n",
    "\n",
    "        folium.CircleMarker(\n",
    "            [lat, lon],\n",
    "            radius=radius,\n",
    "            color=col,\n",
    "            weight=2,\n",
    "            fill=True,\n",
    "            fill_color=col,\n",
    "            fill_opacity=0.8,\n",
    "            tooltip=f\"{iso}: {total:,.0f} USD exports\"\n",
    "        ).add_to(fg)\n",
    "\n",
    "    # —— 绘边 ----------------------------------------------------------\n",
    "    for _, r in edges.iterrows():\n",
    "        lat1, lon1 = get_latlon(r.reporter)\n",
    "        lat2, lon2 = get_latlon(r.partner)\n",
    "        w = edge_weight(r.value)\n",
    "        c = color_map_core[r.core]     # 与核心国同色\n",
    "\n",
    "        if edge_style == \"ant\":\n",
    "            AntPath([[lat1, lon1], [lat2, lon2]],\n",
    "                    color=c, weight=w, opacity=0.8,\n",
    "                    dash_array=[10, 15], delay=400).add_to(fg)\n",
    "        else:\n",
    "            folium.PolyLine([[lat1, lon1], [lat2, lon2]],\n",
    "                            color=c, weight=w, opacity=0.8).add_to(fg)\n",
    "\n",
    "    return fg\n",
    "\n",
    "\n",
    "# ---------------- 滑块控件 ----------------\n",
    "class YearSlider(MacroElement):\n",
    "    _template = Template(\"\"\"\n",
    "    {% macro script(this,kwargs) %}\n",
    "        var s = L.DomUtil.create('div', 'year-slider');\n",
    "        s.innerHTML='<input type=\"range\" min=\"{{this.min}}\" max=\"{{this.max}}\" value=\"{{this.val}}\" id=\"ys\"> <span id=\"yl\">{{this.val}}</span>';\n",
    "        s.style.position='fixed'; s.style.bottom='50px'; s.style.left='50px';\n",
    "        s.style.zIndex='9999'; s.style.background='white'; s.style.padding='8px';\n",
    "        s.style.borderRadius='4px'; s.style.boxShadow='0 0 10px rgba(0,0,0,.3)';\n",
    "        L.DomEvent.disableClickPropagation(s);\n",
    "        L.DomEvent.disableScrollPropagation(s);\n",
    "        {{this._parent.get_name()}}.getContainer().appendChild(s);\n",
    "\n",
    "        var layers = {\n",
    "        {% for y,n in this.names.items() %}\n",
    "            \"{{y}}\": {{n}},\n",
    "        {% endfor %}\n",
    "        };\n",
    "        function show(y){Object.keys(layers).forEach(k=>{\n",
    "            if(k===y){ if(!{{this._parent.get_name()}}.hasLayer(layers[k])) {{this._parent.get_name()}}.addLayer(layers[k]); }\n",
    "            else      { if({{this._parent.get_name()}}.hasLayer(layers[k])) {{this._parent.get_name()}}.removeLayer(layers[k]); }\n",
    "        });}\n",
    "        document.getElementById('ys').addEventListener('input',e=>{\n",
    "            var y=e.target.value; document.getElementById('yl').innerHTML=y; show(y);\n",
    "        });\n",
    "        show(String({{this.val}}));\n",
    "    {% endmacro %}\n",
    "    \"\"\")\n",
    "    def __init__(self, names: Dict[int,str], start: int, end: int):\n",
    "        super().__init__()\n",
    "        self.names, self.val, self.min, self.max = names, start, start, end\n",
    "\n",
    "# ---------------- 主函数：生成多年份滑块地图 ----------------\n",
    "def make_topn_slider_map(\n",
    "    csv_path: str,\n",
    "    years: range,\n",
    "    k_countries: int = 8,\n",
    "    n_edges: int = 6,\n",
    "    edge_style: str = \"poly\",\n",
    "    cmap_name: str = \"tab10\"\n",
    ") -> folium.Map:\n",
    "    m = folium.Map(location=[20,0], zoom_start=2, tiles=\"cartodbpositron\")\n",
    "    layer_names = {}\n",
    "\n",
    "    for y in tqdm(years, desc=\"Build layers\"):\n",
    "        df_year = load_exports_from_csv(csv_path, y)\n",
    "        layer   = build_topn_layer(df_year, y,\n",
    "                                   k_countries=k_countries,\n",
    "                                   n_edges=n_edges,\n",
    "                                   edge_style=edge_style,\n",
    "                                   cmap_name=cmap_name)\n",
    "        layer.add_to(m)\n",
    "        layer_names[y] = layer.get_name()\n",
    "\n",
    "    m.add_child(YearSlider(layer_names, min(years), max(years)))\n",
    "    m.get_root().html.add_child(folium.Element(\n",
    "        f\"<h4 style='text-align:center;font-size:20px'>Top Exporters Network {min(years)}–{max(years)}</h4>\"\n",
    "    ))\n",
    "    return m\n",
    "# ---------------- 使用示例 ----------------\n",
    "YEAR_START, YEAR_END = 1948, 2024   # 自行设定区间\n",
    "years_range = range(YEAR_START, YEAR_END + 1)\n",
    "\n",
    "topn_map = make_topn_slider_map(\n",
    "    csv_path=FILE_CSV,\n",
    "    years=years_range,\n",
    "    k_countries=8,\n",
    "    n_edges=6,\n",
    "    edge_style=\"poly\",      # 或 \"ant\"\n",
    "    cmap_name=\"tab10\"\n",
    ")\n",
    "topn_map.save(f\"top_exporters_{YEAR_START}_{YEAR_END}.html\")\n"
   ]
  },
  {
   "cell_type": "markdown",
   "id": "f65353bf",
   "metadata": {},
   "source": [
    "# Louvain Community."
   ]
  },
  {
   "cell_type": "code",
   "execution_count": 1,
   "id": "665d4cca",
   "metadata": {},
   "outputs": [
    {
     "name": "stderr",
     "output_type": "stream",
     "text": [
      "Build layers:   0%|          | 0/77 [00:00<?, ?it/s]C:\\Users\\12693\\AppData\\Local\\Temp\\ipykernel_24340\\1369115391.py:80: MatplotlibDeprecationWarning: The get_cmap function was deprecated in Matplotlib 3.7 and will be removed in 3.11. Use ``matplotlib.colormaps[name]`` or ``matplotlib.colormaps.get_cmap()`` or ``pyplot.get_cmap()`` instead.\n",
      "  cmap = cm.get_cmap(cmap_name, 20)\n",
      "Build layers:   1%|▏         | 1/77 [00:00<00:44,  1.70it/s]"
     ]
    },
    {
     "name": "stdout",
     "output_type": "stream",
     "text": [
      "1948: communities = 5\n"
     ]
    },
    {
     "name": "stderr",
     "output_type": "stream",
     "text": [
      "C:\\Users\\12693\\AppData\\Local\\Temp\\ipykernel_24340\\1369115391.py:80: MatplotlibDeprecationWarning: The get_cmap function was deprecated in Matplotlib 3.7 and will be removed in 3.11. Use ``matplotlib.colormaps[name]`` or ``matplotlib.colormaps.get_cmap()`` or ``pyplot.get_cmap()`` instead.\n",
      "  cmap = cm.get_cmap(cmap_name, 20)\n",
      "Build layers:   3%|▎         | 2/77 [00:01<00:41,  1.82it/s]"
     ]
    },
    {
     "name": "stdout",
     "output_type": "stream",
     "text": [
      "1949: communities = 10\n"
     ]
    },
    {
     "name": "stderr",
     "output_type": "stream",
     "text": [
      "C:\\Users\\12693\\AppData\\Local\\Temp\\ipykernel_24340\\1369115391.py:80: MatplotlibDeprecationWarning: The get_cmap function was deprecated in Matplotlib 3.7 and will be removed in 3.11. Use ``matplotlib.colormaps[name]`` or ``matplotlib.colormaps.get_cmap()`` or ``pyplot.get_cmap()`` instead.\n",
      "  cmap = cm.get_cmap(cmap_name, 20)\n",
      "Build layers:   4%|▍         | 3/77 [00:01<00:39,  1.86it/s]"
     ]
    },
    {
     "name": "stdout",
     "output_type": "stream",
     "text": [
      "1950: communities = 8\n"
     ]
    },
    {
     "name": "stderr",
     "output_type": "stream",
     "text": [
      "C:\\Users\\12693\\AppData\\Local\\Temp\\ipykernel_24340\\1369115391.py:80: MatplotlibDeprecationWarning: The get_cmap function was deprecated in Matplotlib 3.7 and will be removed in 3.11. Use ``matplotlib.colormaps[name]`` or ``matplotlib.colormaps.get_cmap()`` or ``pyplot.get_cmap()`` instead.\n",
      "  cmap = cm.get_cmap(cmap_name, 20)\n",
      "Build layers:   5%|▌         | 4/77 [00:02<00:38,  1.89it/s]"
     ]
    },
    {
     "name": "stdout",
     "output_type": "stream",
     "text": [
      "1951: communities = 10\n"
     ]
    },
    {
     "name": "stderr",
     "output_type": "stream",
     "text": [
      "C:\\Users\\12693\\AppData\\Local\\Temp\\ipykernel_24340\\1369115391.py:80: MatplotlibDeprecationWarning: The get_cmap function was deprecated in Matplotlib 3.7 and will be removed in 3.11. Use ``matplotlib.colormaps[name]`` or ``matplotlib.colormaps.get_cmap()`` or ``pyplot.get_cmap()`` instead.\n",
      "  cmap = cm.get_cmap(cmap_name, 20)\n",
      "Build layers:   6%|▋         | 5/77 [00:02<00:38,  1.88it/s]"
     ]
    },
    {
     "name": "stdout",
     "output_type": "stream",
     "text": [
      "1952: communities = 7\n"
     ]
    },
    {
     "name": "stderr",
     "output_type": "stream",
     "text": [
      "C:\\Users\\12693\\AppData\\Local\\Temp\\ipykernel_24340\\1369115391.py:80: MatplotlibDeprecationWarning: The get_cmap function was deprecated in Matplotlib 3.7 and will be removed in 3.11. Use ``matplotlib.colormaps[name]`` or ``matplotlib.colormaps.get_cmap()`` or ``pyplot.get_cmap()`` instead.\n",
      "  cmap = cm.get_cmap(cmap_name, 20)\n",
      "Build layers:   8%|▊         | 6/77 [00:03<00:38,  1.86it/s]"
     ]
    },
    {
     "name": "stdout",
     "output_type": "stream",
     "text": [
      "1953: communities = 5\n"
     ]
    },
    {
     "name": "stderr",
     "output_type": "stream",
     "text": [
      "C:\\Users\\12693\\AppData\\Local\\Temp\\ipykernel_24340\\1369115391.py:80: MatplotlibDeprecationWarning: The get_cmap function was deprecated in Matplotlib 3.7 and will be removed in 3.11. Use ``matplotlib.colormaps[name]`` or ``matplotlib.colormaps.get_cmap()`` or ``pyplot.get_cmap()`` instead.\n",
      "  cmap = cm.get_cmap(cmap_name, 20)\n",
      "Build layers:   9%|▉         | 7/77 [00:03<00:37,  1.87it/s]"
     ]
    },
    {
     "name": "stdout",
     "output_type": "stream",
     "text": [
      "1954: communities = 4\n"
     ]
    },
    {
     "name": "stderr",
     "output_type": "stream",
     "text": [
      "C:\\Users\\12693\\AppData\\Local\\Temp\\ipykernel_24340\\1369115391.py:80: MatplotlibDeprecationWarning: The get_cmap function was deprecated in Matplotlib 3.7 and will be removed in 3.11. Use ``matplotlib.colormaps[name]`` or ``matplotlib.colormaps.get_cmap()`` or ``pyplot.get_cmap()`` instead.\n",
      "  cmap = cm.get_cmap(cmap_name, 20)\n",
      "Build layers:  10%|█         | 8/77 [00:04<00:37,  1.86it/s]"
     ]
    },
    {
     "name": "stdout",
     "output_type": "stream",
     "text": [
      "1955: communities = 17\n"
     ]
    },
    {
     "name": "stderr",
     "output_type": "stream",
     "text": [
      "C:\\Users\\12693\\AppData\\Local\\Temp\\ipykernel_24340\\1369115391.py:80: MatplotlibDeprecationWarning: The get_cmap function was deprecated in Matplotlib 3.7 and will be removed in 3.11. Use ``matplotlib.colormaps[name]`` or ``matplotlib.colormaps.get_cmap()`` or ``pyplot.get_cmap()`` instead.\n",
      "  cmap = cm.get_cmap(cmap_name, 20)\n",
      "Build layers:  12%|█▏        | 9/77 [00:04<00:36,  1.87it/s]"
     ]
    },
    {
     "name": "stdout",
     "output_type": "stream",
     "text": [
      "1956: communities = 3\n"
     ]
    },
    {
     "name": "stderr",
     "output_type": "stream",
     "text": [
      "C:\\Users\\12693\\AppData\\Local\\Temp\\ipykernel_24340\\1369115391.py:80: MatplotlibDeprecationWarning: The get_cmap function was deprecated in Matplotlib 3.7 and will be removed in 3.11. Use ``matplotlib.colormaps[name]`` or ``matplotlib.colormaps.get_cmap()`` or ``pyplot.get_cmap()`` instead.\n",
      "  cmap = cm.get_cmap(cmap_name, 20)\n",
      "Build layers:  13%|█▎        | 10/77 [00:05<00:36,  1.83it/s]"
     ]
    },
    {
     "name": "stdout",
     "output_type": "stream",
     "text": [
      "1957: communities = 3\n"
     ]
    },
    {
     "name": "stderr",
     "output_type": "stream",
     "text": [
      "C:\\Users\\12693\\AppData\\Local\\Temp\\ipykernel_24340\\1369115391.py:80: MatplotlibDeprecationWarning: The get_cmap function was deprecated in Matplotlib 3.7 and will be removed in 3.11. Use ``matplotlib.colormaps[name]`` or ``matplotlib.colormaps.get_cmap()`` or ``pyplot.get_cmap()`` instead.\n",
      "  cmap = cm.get_cmap(cmap_name, 20)\n",
      "Build layers:  14%|█▍        | 11/77 [00:05<00:36,  1.82it/s]"
     ]
    },
    {
     "name": "stdout",
     "output_type": "stream",
     "text": [
      "1958: communities = 13\n"
     ]
    },
    {
     "name": "stderr",
     "output_type": "stream",
     "text": [
      "C:\\Users\\12693\\AppData\\Local\\Temp\\ipykernel_24340\\1369115391.py:80: MatplotlibDeprecationWarning: The get_cmap function was deprecated in Matplotlib 3.7 and will be removed in 3.11. Use ``matplotlib.colormaps[name]`` or ``matplotlib.colormaps.get_cmap()`` or ``pyplot.get_cmap()`` instead.\n",
      "  cmap = cm.get_cmap(cmap_name, 20)\n",
      "Build layers:  16%|█▌        | 12/77 [00:06<00:35,  1.81it/s]"
     ]
    },
    {
     "name": "stdout",
     "output_type": "stream",
     "text": [
      "1959: communities = 16\n"
     ]
    },
    {
     "name": "stderr",
     "output_type": "stream",
     "text": [
      "C:\\Users\\12693\\AppData\\Local\\Temp\\ipykernel_24340\\1369115391.py:80: MatplotlibDeprecationWarning: The get_cmap function was deprecated in Matplotlib 3.7 and will be removed in 3.11. Use ``matplotlib.colormaps[name]`` or ``matplotlib.colormaps.get_cmap()`` or ``pyplot.get_cmap()`` instead.\n",
      "  cmap = cm.get_cmap(cmap_name, 20)\n",
      "Build layers:  17%|█▋        | 13/77 [00:07<00:35,  1.80it/s]"
     ]
    },
    {
     "name": "stdout",
     "output_type": "stream",
     "text": [
      "1960: communities = 3\n"
     ]
    },
    {
     "name": "stderr",
     "output_type": "stream",
     "text": [
      "C:\\Users\\12693\\AppData\\Local\\Temp\\ipykernel_24340\\1369115391.py:80: MatplotlibDeprecationWarning: The get_cmap function was deprecated in Matplotlib 3.7 and will be removed in 3.11. Use ``matplotlib.colormaps[name]`` or ``matplotlib.colormaps.get_cmap()`` or ``pyplot.get_cmap()`` instead.\n",
      "  cmap = cm.get_cmap(cmap_name, 20)\n",
      "Build layers:  18%|█▊        | 14/77 [00:07<00:35,  1.79it/s]"
     ]
    },
    {
     "name": "stdout",
     "output_type": "stream",
     "text": [
      "1961: communities = 5\n"
     ]
    },
    {
     "name": "stderr",
     "output_type": "stream",
     "text": [
      "C:\\Users\\12693\\AppData\\Local\\Temp\\ipykernel_24340\\1369115391.py:80: MatplotlibDeprecationWarning: The get_cmap function was deprecated in Matplotlib 3.7 and will be removed in 3.11. Use ``matplotlib.colormaps[name]`` or ``matplotlib.colormaps.get_cmap()`` or ``pyplot.get_cmap()`` instead.\n",
      "  cmap = cm.get_cmap(cmap_name, 20)\n",
      "Build layers:  19%|█▉        | 15/77 [00:08<00:34,  1.80it/s]"
     ]
    },
    {
     "name": "stdout",
     "output_type": "stream",
     "text": [
      "1962: communities = 15\n"
     ]
    },
    {
     "name": "stderr",
     "output_type": "stream",
     "text": [
      "C:\\Users\\12693\\AppData\\Local\\Temp\\ipykernel_24340\\1369115391.py:80: MatplotlibDeprecationWarning: The get_cmap function was deprecated in Matplotlib 3.7 and will be removed in 3.11. Use ``matplotlib.colormaps[name]`` or ``matplotlib.colormaps.get_cmap()`` or ``pyplot.get_cmap()`` instead.\n",
      "  cmap = cm.get_cmap(cmap_name, 20)\n",
      "Build layers:  21%|██        | 16/77 [00:08<00:34,  1.79it/s]"
     ]
    },
    {
     "name": "stdout",
     "output_type": "stream",
     "text": [
      "1963: communities = 6\n"
     ]
    },
    {
     "name": "stderr",
     "output_type": "stream",
     "text": [
      "C:\\Users\\12693\\AppData\\Local\\Temp\\ipykernel_24340\\1369115391.py:80: MatplotlibDeprecationWarning: The get_cmap function was deprecated in Matplotlib 3.7 and will be removed in 3.11. Use ``matplotlib.colormaps[name]`` or ``matplotlib.colormaps.get_cmap()`` or ``pyplot.get_cmap()`` instead.\n",
      "  cmap = cm.get_cmap(cmap_name, 20)\n",
      "Build layers:  22%|██▏       | 17/77 [00:09<00:33,  1.77it/s]"
     ]
    },
    {
     "name": "stdout",
     "output_type": "stream",
     "text": [
      "1964: communities = 3\n"
     ]
    },
    {
     "name": "stderr",
     "output_type": "stream",
     "text": [
      "C:\\Users\\12693\\AppData\\Local\\Temp\\ipykernel_24340\\1369115391.py:80: MatplotlibDeprecationWarning: The get_cmap function was deprecated in Matplotlib 3.7 and will be removed in 3.11. Use ``matplotlib.colormaps[name]`` or ``matplotlib.colormaps.get_cmap()`` or ``pyplot.get_cmap()`` instead.\n",
      "  cmap = cm.get_cmap(cmap_name, 20)\n",
      "Build layers:  23%|██▎       | 18/77 [00:09<00:33,  1.76it/s]"
     ]
    },
    {
     "name": "stdout",
     "output_type": "stream",
     "text": [
      "1965: communities = 19\n"
     ]
    },
    {
     "name": "stderr",
     "output_type": "stream",
     "text": [
      "C:\\Users\\12693\\AppData\\Local\\Temp\\ipykernel_24340\\1369115391.py:80: MatplotlibDeprecationWarning: The get_cmap function was deprecated in Matplotlib 3.7 and will be removed in 3.11. Use ``matplotlib.colormaps[name]`` or ``matplotlib.colormaps.get_cmap()`` or ``pyplot.get_cmap()`` instead.\n",
      "  cmap = cm.get_cmap(cmap_name, 20)\n",
      "Build layers:  25%|██▍       | 19/77 [00:10<00:33,  1.72it/s]"
     ]
    },
    {
     "name": "stdout",
     "output_type": "stream",
     "text": [
      "1966: communities = 22\n"
     ]
    },
    {
     "name": "stderr",
     "output_type": "stream",
     "text": [
      "C:\\Users\\12693\\AppData\\Local\\Temp\\ipykernel_24340\\1369115391.py:80: MatplotlibDeprecationWarning: The get_cmap function was deprecated in Matplotlib 3.7 and will be removed in 3.11. Use ``matplotlib.colormaps[name]`` or ``matplotlib.colormaps.get_cmap()`` or ``pyplot.get_cmap()`` instead.\n",
      "  cmap = cm.get_cmap(cmap_name, 20)\n",
      "Build layers:  26%|██▌       | 20/77 [00:11<00:34,  1.65it/s]"
     ]
    },
    {
     "name": "stdout",
     "output_type": "stream",
     "text": [
      "1967: communities = 5\n"
     ]
    },
    {
     "name": "stderr",
     "output_type": "stream",
     "text": [
      "C:\\Users\\12693\\AppData\\Local\\Temp\\ipykernel_24340\\1369115391.py:80: MatplotlibDeprecationWarning: The get_cmap function was deprecated in Matplotlib 3.7 and will be removed in 3.11. Use ``matplotlib.colormaps[name]`` or ``matplotlib.colormaps.get_cmap()`` or ``pyplot.get_cmap()`` instead.\n",
      "  cmap = cm.get_cmap(cmap_name, 20)\n",
      "Build layers:  27%|██▋       | 21/77 [00:11<00:34,  1.64it/s]"
     ]
    },
    {
     "name": "stdout",
     "output_type": "stream",
     "text": [
      "1968: communities = 24\n"
     ]
    },
    {
     "name": "stderr",
     "output_type": "stream",
     "text": [
      "C:\\Users\\12693\\AppData\\Local\\Temp\\ipykernel_24340\\1369115391.py:80: MatplotlibDeprecationWarning: The get_cmap function was deprecated in Matplotlib 3.7 and will be removed in 3.11. Use ``matplotlib.colormaps[name]`` or ``matplotlib.colormaps.get_cmap()`` or ``pyplot.get_cmap()`` instead.\n",
      "  cmap = cm.get_cmap(cmap_name, 20)\n",
      "Build layers:  29%|██▊       | 22/77 [00:12<00:35,  1.54it/s]"
     ]
    },
    {
     "name": "stdout",
     "output_type": "stream",
     "text": [
      "1969: communities = 21\n"
     ]
    },
    {
     "name": "stderr",
     "output_type": "stream",
     "text": [
      "C:\\Users\\12693\\AppData\\Local\\Temp\\ipykernel_24340\\1369115391.py:80: MatplotlibDeprecationWarning: The get_cmap function was deprecated in Matplotlib 3.7 and will be removed in 3.11. Use ``matplotlib.colormaps[name]`` or ``matplotlib.colormaps.get_cmap()`` or ``pyplot.get_cmap()`` instead.\n",
      "  cmap = cm.get_cmap(cmap_name, 20)\n",
      "Build layers:  30%|██▉       | 23/77 [00:13<00:34,  1.56it/s]"
     ]
    },
    {
     "name": "stdout",
     "output_type": "stream",
     "text": [
      "1970: communities = 21\n"
     ]
    },
    {
     "name": "stderr",
     "output_type": "stream",
     "text": [
      "C:\\Users\\12693\\AppData\\Local\\Temp\\ipykernel_24340\\1369115391.py:80: MatplotlibDeprecationWarning: The get_cmap function was deprecated in Matplotlib 3.7 and will be removed in 3.11. Use ``matplotlib.colormaps[name]`` or ``matplotlib.colormaps.get_cmap()`` or ``pyplot.get_cmap()`` instead.\n",
      "  cmap = cm.get_cmap(cmap_name, 20)\n",
      "Build layers:  31%|███       | 24/77 [00:13<00:33,  1.57it/s]"
     ]
    },
    {
     "name": "stdout",
     "output_type": "stream",
     "text": [
      "1971: communities = 20\n"
     ]
    },
    {
     "name": "stderr",
     "output_type": "stream",
     "text": [
      "C:\\Users\\12693\\AppData\\Local\\Temp\\ipykernel_24340\\1369115391.py:80: MatplotlibDeprecationWarning: The get_cmap function was deprecated in Matplotlib 3.7 and will be removed in 3.11. Use ``matplotlib.colormaps[name]`` or ``matplotlib.colormaps.get_cmap()`` or ``pyplot.get_cmap()`` instead.\n",
      "  cmap = cm.get_cmap(cmap_name, 20)\n",
      "Build layers:  32%|███▏      | 25/77 [00:14<00:32,  1.61it/s]"
     ]
    },
    {
     "name": "stdout",
     "output_type": "stream",
     "text": [
      "1972: communities = 6\n"
     ]
    },
    {
     "name": "stderr",
     "output_type": "stream",
     "text": [
      "C:\\Users\\12693\\AppData\\Local\\Temp\\ipykernel_24340\\1369115391.py:80: MatplotlibDeprecationWarning: The get_cmap function was deprecated in Matplotlib 3.7 and will be removed in 3.11. Use ``matplotlib.colormaps[name]`` or ``matplotlib.colormaps.get_cmap()`` or ``pyplot.get_cmap()`` instead.\n",
      "  cmap = cm.get_cmap(cmap_name, 20)\n",
      "Build layers:  34%|███▍      | 26/77 [00:15<00:31,  1.60it/s]"
     ]
    },
    {
     "name": "stdout",
     "output_type": "stream",
     "text": [
      "1973: communities = 23\n"
     ]
    },
    {
     "name": "stderr",
     "output_type": "stream",
     "text": [
      "C:\\Users\\12693\\AppData\\Local\\Temp\\ipykernel_24340\\1369115391.py:80: MatplotlibDeprecationWarning: The get_cmap function was deprecated in Matplotlib 3.7 and will be removed in 3.11. Use ``matplotlib.colormaps[name]`` or ``matplotlib.colormaps.get_cmap()`` or ``pyplot.get_cmap()`` instead.\n",
      "  cmap = cm.get_cmap(cmap_name, 20)\n",
      "Build layers:  35%|███▌      | 27/77 [00:15<00:32,  1.54it/s]"
     ]
    },
    {
     "name": "stdout",
     "output_type": "stream",
     "text": [
      "1974: communities = 22\n"
     ]
    },
    {
     "name": "stderr",
     "output_type": "stream",
     "text": [
      "C:\\Users\\12693\\AppData\\Local\\Temp\\ipykernel_24340\\1369115391.py:80: MatplotlibDeprecationWarning: The get_cmap function was deprecated in Matplotlib 3.7 and will be removed in 3.11. Use ``matplotlib.colormaps[name]`` or ``matplotlib.colormaps.get_cmap()`` or ``pyplot.get_cmap()`` instead.\n",
      "  cmap = cm.get_cmap(cmap_name, 20)\n",
      "Build layers:  36%|███▋      | 28/77 [00:16<00:32,  1.53it/s]"
     ]
    },
    {
     "name": "stdout",
     "output_type": "stream",
     "text": [
      "1975: communities = 6\n"
     ]
    },
    {
     "name": "stderr",
     "output_type": "stream",
     "text": [
      "C:\\Users\\12693\\AppData\\Local\\Temp\\ipykernel_24340\\1369115391.py:80: MatplotlibDeprecationWarning: The get_cmap function was deprecated in Matplotlib 3.7 and will be removed in 3.11. Use ``matplotlib.colormaps[name]`` or ``matplotlib.colormaps.get_cmap()`` or ``pyplot.get_cmap()`` instead.\n",
      "  cmap = cm.get_cmap(cmap_name, 20)\n",
      "Build layers:  38%|███▊      | 29/77 [00:17<00:32,  1.47it/s]"
     ]
    },
    {
     "name": "stdout",
     "output_type": "stream",
     "text": [
      "1976: communities = 18\n"
     ]
    },
    {
     "name": "stderr",
     "output_type": "stream",
     "text": [
      "C:\\Users\\12693\\AppData\\Local\\Temp\\ipykernel_24340\\1369115391.py:80: MatplotlibDeprecationWarning: The get_cmap function was deprecated in Matplotlib 3.7 and will be removed in 3.11. Use ``matplotlib.colormaps[name]`` or ``matplotlib.colormaps.get_cmap()`` or ``pyplot.get_cmap()`` instead.\n",
      "  cmap = cm.get_cmap(cmap_name, 20)\n",
      "Build layers:  39%|███▉      | 30/77 [00:18<00:41,  1.12it/s]"
     ]
    },
    {
     "name": "stdout",
     "output_type": "stream",
     "text": [
      "1977: communities = 16\n"
     ]
    },
    {
     "name": "stderr",
     "output_type": "stream",
     "text": [
      "C:\\Users\\12693\\AppData\\Local\\Temp\\ipykernel_24340\\1369115391.py:80: MatplotlibDeprecationWarning: The get_cmap function was deprecated in Matplotlib 3.7 and will be removed in 3.11. Use ``matplotlib.colormaps[name]`` or ``matplotlib.colormaps.get_cmap()`` or ``pyplot.get_cmap()`` instead.\n",
      "  cmap = cm.get_cmap(cmap_name, 20)\n",
      "Build layers:  40%|████      | 31/77 [00:19<00:48,  1.05s/it]"
     ]
    },
    {
     "name": "stdout",
     "output_type": "stream",
     "text": [
      "1978: communities = 21\n"
     ]
    },
    {
     "name": "stderr",
     "output_type": "stream",
     "text": [
      "C:\\Users\\12693\\AppData\\Local\\Temp\\ipykernel_24340\\1369115391.py:80: MatplotlibDeprecationWarning: The get_cmap function was deprecated in Matplotlib 3.7 and will be removed in 3.11. Use ``matplotlib.colormaps[name]`` or ``matplotlib.colormaps.get_cmap()`` or ``pyplot.get_cmap()`` instead.\n",
      "  cmap = cm.get_cmap(cmap_name, 20)\n",
      "Build layers:  42%|████▏     | 32/77 [00:21<00:51,  1.15s/it]"
     ]
    },
    {
     "name": "stdout",
     "output_type": "stream",
     "text": [
      "1979: communities = 27\n"
     ]
    },
    {
     "name": "stderr",
     "output_type": "stream",
     "text": [
      "C:\\Users\\12693\\AppData\\Local\\Temp\\ipykernel_24340\\1369115391.py:80: MatplotlibDeprecationWarning: The get_cmap function was deprecated in Matplotlib 3.7 and will be removed in 3.11. Use ``matplotlib.colormaps[name]`` or ``matplotlib.colormaps.get_cmap()`` or ``pyplot.get_cmap()`` instead.\n",
      "  cmap = cm.get_cmap(cmap_name, 20)\n",
      "Build layers:  43%|████▎     | 33/77 [00:22<00:51,  1.17s/it]"
     ]
    },
    {
     "name": "stdout",
     "output_type": "stream",
     "text": [
      "1980: communities = 25\n"
     ]
    },
    {
     "name": "stderr",
     "output_type": "stream",
     "text": [
      "C:\\Users\\12693\\AppData\\Local\\Temp\\ipykernel_24340\\1369115391.py:80: MatplotlibDeprecationWarning: The get_cmap function was deprecated in Matplotlib 3.7 and will be removed in 3.11. Use ``matplotlib.colormaps[name]`` or ``matplotlib.colormaps.get_cmap()`` or ``pyplot.get_cmap()`` instead.\n",
      "  cmap = cm.get_cmap(cmap_name, 20)\n",
      "Build layers:  44%|████▍     | 34/77 [00:23<00:53,  1.25s/it]"
     ]
    },
    {
     "name": "stdout",
     "output_type": "stream",
     "text": [
      "1981: communities = 7\n"
     ]
    },
    {
     "name": "stderr",
     "output_type": "stream",
     "text": [
      "C:\\Users\\12693\\AppData\\Local\\Temp\\ipykernel_24340\\1369115391.py:80: MatplotlibDeprecationWarning: The get_cmap function was deprecated in Matplotlib 3.7 and will be removed in 3.11. Use ``matplotlib.colormaps[name]`` or ``matplotlib.colormaps.get_cmap()`` or ``pyplot.get_cmap()`` instead.\n",
      "  cmap = cm.get_cmap(cmap_name, 20)\n",
      "Build layers:  45%|████▌     | 35/77 [00:25<00:54,  1.29s/it]"
     ]
    },
    {
     "name": "stdout",
     "output_type": "stream",
     "text": [
      "1982: communities = 6\n"
     ]
    },
    {
     "name": "stderr",
     "output_type": "stream",
     "text": [
      "C:\\Users\\12693\\AppData\\Local\\Temp\\ipykernel_24340\\1369115391.py:80: MatplotlibDeprecationWarning: The get_cmap function was deprecated in Matplotlib 3.7 and will be removed in 3.11. Use ``matplotlib.colormaps[name]`` or ``matplotlib.colormaps.get_cmap()`` or ``pyplot.get_cmap()`` instead.\n",
      "  cmap = cm.get_cmap(cmap_name, 20)\n",
      "Build layers:  47%|████▋     | 36/77 [00:26<00:54,  1.32s/it]"
     ]
    },
    {
     "name": "stdout",
     "output_type": "stream",
     "text": [
      "1983: communities = 7\n"
     ]
    },
    {
     "name": "stderr",
     "output_type": "stream",
     "text": [
      "C:\\Users\\12693\\AppData\\Local\\Temp\\ipykernel_24340\\1369115391.py:80: MatplotlibDeprecationWarning: The get_cmap function was deprecated in Matplotlib 3.7 and will be removed in 3.11. Use ``matplotlib.colormaps[name]`` or ``matplotlib.colormaps.get_cmap()`` or ``pyplot.get_cmap()`` instead.\n",
      "  cmap = cm.get_cmap(cmap_name, 20)\n",
      "Build layers:  48%|████▊     | 37/77 [00:28<00:53,  1.34s/it]"
     ]
    },
    {
     "name": "stdout",
     "output_type": "stream",
     "text": [
      "1984: communities = 22\n"
     ]
    },
    {
     "name": "stderr",
     "output_type": "stream",
     "text": [
      "C:\\Users\\12693\\AppData\\Local\\Temp\\ipykernel_24340\\1369115391.py:80: MatplotlibDeprecationWarning: The get_cmap function was deprecated in Matplotlib 3.7 and will be removed in 3.11. Use ``matplotlib.colormaps[name]`` or ``matplotlib.colormaps.get_cmap()`` or ``pyplot.get_cmap()`` instead.\n",
      "  cmap = cm.get_cmap(cmap_name, 20)\n",
      "Build layers:  49%|████▉     | 38/77 [00:29<00:53,  1.37s/it]"
     ]
    },
    {
     "name": "stdout",
     "output_type": "stream",
     "text": [
      "1985: communities = 6\n"
     ]
    },
    {
     "name": "stderr",
     "output_type": "stream",
     "text": [
      "C:\\Users\\12693\\AppData\\Local\\Temp\\ipykernel_24340\\1369115391.py:80: MatplotlibDeprecationWarning: The get_cmap function was deprecated in Matplotlib 3.7 and will be removed in 3.11. Use ``matplotlib.colormaps[name]`` or ``matplotlib.colormaps.get_cmap()`` or ``pyplot.get_cmap()`` instead.\n",
      "  cmap = cm.get_cmap(cmap_name, 20)\n",
      "Build layers:  51%|█████     | 39/77 [00:30<00:52,  1.39s/it]"
     ]
    },
    {
     "name": "stdout",
     "output_type": "stream",
     "text": [
      "1986: communities = 22\n"
     ]
    },
    {
     "name": "stderr",
     "output_type": "stream",
     "text": [
      "C:\\Users\\12693\\AppData\\Local\\Temp\\ipykernel_24340\\1369115391.py:80: MatplotlibDeprecationWarning: The get_cmap function was deprecated in Matplotlib 3.7 and will be removed in 3.11. Use ``matplotlib.colormaps[name]`` or ``matplotlib.colormaps.get_cmap()`` or ``pyplot.get_cmap()`` instead.\n",
      "  cmap = cm.get_cmap(cmap_name, 20)\n",
      "Build layers:  52%|█████▏    | 40/77 [00:32<00:51,  1.40s/it]"
     ]
    },
    {
     "name": "stdout",
     "output_type": "stream",
     "text": [
      "1987: communities = 23\n"
     ]
    },
    {
     "name": "stderr",
     "output_type": "stream",
     "text": [
      "C:\\Users\\12693\\AppData\\Local\\Temp\\ipykernel_24340\\1369115391.py:80: MatplotlibDeprecationWarning: The get_cmap function was deprecated in Matplotlib 3.7 and will be removed in 3.11. Use ``matplotlib.colormaps[name]`` or ``matplotlib.colormaps.get_cmap()`` or ``pyplot.get_cmap()`` instead.\n",
      "  cmap = cm.get_cmap(cmap_name, 20)\n",
      "Build layers:  53%|█████▎    | 41/77 [00:34<00:52,  1.46s/it]"
     ]
    },
    {
     "name": "stdout",
     "output_type": "stream",
     "text": [
      "1988: communities = 16\n"
     ]
    },
    {
     "name": "stderr",
     "output_type": "stream",
     "text": [
      "C:\\Users\\12693\\AppData\\Local\\Temp\\ipykernel_24340\\1369115391.py:80: MatplotlibDeprecationWarning: The get_cmap function was deprecated in Matplotlib 3.7 and will be removed in 3.11. Use ``matplotlib.colormaps[name]`` or ``matplotlib.colormaps.get_cmap()`` or ``pyplot.get_cmap()`` instead.\n",
      "  cmap = cm.get_cmap(cmap_name, 20)\n",
      "Build layers:  55%|█████▍    | 42/77 [00:35<00:51,  1.46s/it]"
     ]
    },
    {
     "name": "stdout",
     "output_type": "stream",
     "text": [
      "1989: communities = 24\n"
     ]
    },
    {
     "name": "stderr",
     "output_type": "stream",
     "text": [
      "C:\\Users\\12693\\AppData\\Local\\Temp\\ipykernel_24340\\1369115391.py:80: MatplotlibDeprecationWarning: The get_cmap function was deprecated in Matplotlib 3.7 and will be removed in 3.11. Use ``matplotlib.colormaps[name]`` or ``matplotlib.colormaps.get_cmap()`` or ``pyplot.get_cmap()`` instead.\n",
      "  cmap = cm.get_cmap(cmap_name, 20)\n",
      "Build layers:  56%|█████▌    | 43/77 [00:37<00:50,  1.48s/it]"
     ]
    },
    {
     "name": "stdout",
     "output_type": "stream",
     "text": [
      "1990: communities = 25\n"
     ]
    },
    {
     "name": "stderr",
     "output_type": "stream",
     "text": [
      "C:\\Users\\12693\\AppData\\Local\\Temp\\ipykernel_24340\\1369115391.py:80: MatplotlibDeprecationWarning: The get_cmap function was deprecated in Matplotlib 3.7 and will be removed in 3.11. Use ``matplotlib.colormaps[name]`` or ``matplotlib.colormaps.get_cmap()`` or ``pyplot.get_cmap()`` instead.\n",
      "  cmap = cm.get_cmap(cmap_name, 20)\n",
      "Build layers:  57%|█████▋    | 44/77 [00:38<00:49,  1.50s/it]"
     ]
    },
    {
     "name": "stdout",
     "output_type": "stream",
     "text": [
      "1991: communities = 24\n"
     ]
    },
    {
     "name": "stderr",
     "output_type": "stream",
     "text": [
      "C:\\Users\\12693\\AppData\\Local\\Temp\\ipykernel_24340\\1369115391.py:80: MatplotlibDeprecationWarning: The get_cmap function was deprecated in Matplotlib 3.7 and will be removed in 3.11. Use ``matplotlib.colormaps[name]`` or ``matplotlib.colormaps.get_cmap()`` or ``pyplot.get_cmap()`` instead.\n",
      "  cmap = cm.get_cmap(cmap_name, 20)\n",
      "Build layers:  58%|█████▊    | 45/77 [00:40<00:48,  1.53s/it]"
     ]
    },
    {
     "name": "stdout",
     "output_type": "stream",
     "text": [
      "1992: communities = 24\n"
     ]
    },
    {
     "name": "stderr",
     "output_type": "stream",
     "text": [
      "C:\\Users\\12693\\AppData\\Local\\Temp\\ipykernel_24340\\1369115391.py:80: MatplotlibDeprecationWarning: The get_cmap function was deprecated in Matplotlib 3.7 and will be removed in 3.11. Use ``matplotlib.colormaps[name]`` or ``matplotlib.colormaps.get_cmap()`` or ``pyplot.get_cmap()`` instead.\n",
      "  cmap = cm.get_cmap(cmap_name, 20)\n",
      "Build layers:  60%|█████▉    | 46/77 [00:41<00:49,  1.61s/it]"
     ]
    },
    {
     "name": "stdout",
     "output_type": "stream",
     "text": [
      "1993: communities = 4\n"
     ]
    },
    {
     "name": "stderr",
     "output_type": "stream",
     "text": [
      "C:\\Users\\12693\\AppData\\Local\\Temp\\ipykernel_24340\\1369115391.py:80: MatplotlibDeprecationWarning: The get_cmap function was deprecated in Matplotlib 3.7 and will be removed in 3.11. Use ``matplotlib.colormaps[name]`` or ``matplotlib.colormaps.get_cmap()`` or ``pyplot.get_cmap()`` instead.\n",
      "  cmap = cm.get_cmap(cmap_name, 20)\n",
      "Build layers:  61%|██████    | 47/77 [00:43<00:50,  1.68s/it]"
     ]
    },
    {
     "name": "stdout",
     "output_type": "stream",
     "text": [
      "1994: communities = 29\n"
     ]
    },
    {
     "name": "stderr",
     "output_type": "stream",
     "text": [
      "C:\\Users\\12693\\AppData\\Local\\Temp\\ipykernel_24340\\1369115391.py:80: MatplotlibDeprecationWarning: The get_cmap function was deprecated in Matplotlib 3.7 and will be removed in 3.11. Use ``matplotlib.colormaps[name]`` or ``matplotlib.colormaps.get_cmap()`` or ``pyplot.get_cmap()`` instead.\n",
      "  cmap = cm.get_cmap(cmap_name, 20)\n",
      "Build layers:  62%|██████▏   | 48/77 [00:45<00:50,  1.73s/it]"
     ]
    },
    {
     "name": "stdout",
     "output_type": "stream",
     "text": [
      "1995: communities = 24\n"
     ]
    },
    {
     "name": "stderr",
     "output_type": "stream",
     "text": [
      "C:\\Users\\12693\\AppData\\Local\\Temp\\ipykernel_24340\\1369115391.py:80: MatplotlibDeprecationWarning: The get_cmap function was deprecated in Matplotlib 3.7 and will be removed in 3.11. Use ``matplotlib.colormaps[name]`` or ``matplotlib.colormaps.get_cmap()`` or ``pyplot.get_cmap()`` instead.\n",
      "  cmap = cm.get_cmap(cmap_name, 20)\n",
      "Build layers:  64%|██████▎   | 49/77 [00:47<00:49,  1.76s/it]"
     ]
    },
    {
     "name": "stdout",
     "output_type": "stream",
     "text": [
      "1996: communities = 10\n"
     ]
    },
    {
     "name": "stderr",
     "output_type": "stream",
     "text": [
      "C:\\Users\\12693\\AppData\\Local\\Temp\\ipykernel_24340\\1369115391.py:80: MatplotlibDeprecationWarning: The get_cmap function was deprecated in Matplotlib 3.7 and will be removed in 3.11. Use ``matplotlib.colormaps[name]`` or ``matplotlib.colormaps.get_cmap()`` or ``pyplot.get_cmap()`` instead.\n",
      "  cmap = cm.get_cmap(cmap_name, 20)\n",
      "Build layers:  65%|██████▍   | 50/77 [00:49<00:48,  1.81s/it]"
     ]
    },
    {
     "name": "stdout",
     "output_type": "stream",
     "text": [
      "1997: communities = 29\n"
     ]
    },
    {
     "name": "stderr",
     "output_type": "stream",
     "text": [
      "C:\\Users\\12693\\AppData\\Local\\Temp\\ipykernel_24340\\1369115391.py:80: MatplotlibDeprecationWarning: The get_cmap function was deprecated in Matplotlib 3.7 and will be removed in 3.11. Use ``matplotlib.colormaps[name]`` or ``matplotlib.colormaps.get_cmap()`` or ``pyplot.get_cmap()`` instead.\n",
      "  cmap = cm.get_cmap(cmap_name, 20)\n",
      "Build layers:  66%|██████▌   | 51/77 [00:51<00:48,  1.86s/it]"
     ]
    },
    {
     "name": "stdout",
     "output_type": "stream",
     "text": [
      "1998: communities = 7\n"
     ]
    },
    {
     "name": "stderr",
     "output_type": "stream",
     "text": [
      "C:\\Users\\12693\\AppData\\Local\\Temp\\ipykernel_24340\\1369115391.py:80: MatplotlibDeprecationWarning: The get_cmap function was deprecated in Matplotlib 3.7 and will be removed in 3.11. Use ``matplotlib.colormaps[name]`` or ``matplotlib.colormaps.get_cmap()`` or ``pyplot.get_cmap()`` instead.\n",
      "  cmap = cm.get_cmap(cmap_name, 20)\n",
      "Build layers:  68%|██████▊   | 52/77 [00:53<00:47,  1.92s/it]"
     ]
    },
    {
     "name": "stdout",
     "output_type": "stream",
     "text": [
      "1999: communities = 3\n"
     ]
    },
    {
     "name": "stderr",
     "output_type": "stream",
     "text": [
      "C:\\Users\\12693\\AppData\\Local\\Temp\\ipykernel_24340\\1369115391.py:80: MatplotlibDeprecationWarning: The get_cmap function was deprecated in Matplotlib 3.7 and will be removed in 3.11. Use ``matplotlib.colormaps[name]`` or ``matplotlib.colormaps.get_cmap()`` or ``pyplot.get_cmap()`` instead.\n",
      "  cmap = cm.get_cmap(cmap_name, 20)\n",
      "Build layers:  69%|██████▉   | 53/77 [00:55<00:48,  2.00s/it]"
     ]
    },
    {
     "name": "stdout",
     "output_type": "stream",
     "text": [
      "2000: communities = 8\n"
     ]
    },
    {
     "name": "stderr",
     "output_type": "stream",
     "text": [
      "C:\\Users\\12693\\AppData\\Local\\Temp\\ipykernel_24340\\1369115391.py:80: MatplotlibDeprecationWarning: The get_cmap function was deprecated in Matplotlib 3.7 and will be removed in 3.11. Use ``matplotlib.colormaps[name]`` or ``matplotlib.colormaps.get_cmap()`` or ``pyplot.get_cmap()`` instead.\n",
      "  cmap = cm.get_cmap(cmap_name, 20)\n",
      "Build layers:  70%|███████   | 54/77 [00:57<00:47,  2.05s/it]"
     ]
    },
    {
     "name": "stdout",
     "output_type": "stream",
     "text": [
      "2001: communities = 9\n"
     ]
    },
    {
     "name": "stderr",
     "output_type": "stream",
     "text": [
      "C:\\Users\\12693\\AppData\\Local\\Temp\\ipykernel_24340\\1369115391.py:80: MatplotlibDeprecationWarning: The get_cmap function was deprecated in Matplotlib 3.7 and will be removed in 3.11. Use ``matplotlib.colormaps[name]`` or ``matplotlib.colormaps.get_cmap()`` or ``pyplot.get_cmap()`` instead.\n",
      "  cmap = cm.get_cmap(cmap_name, 20)\n",
      "Build layers:  71%|███████▏  | 55/77 [01:00<00:46,  2.11s/it]"
     ]
    },
    {
     "name": "stdout",
     "output_type": "stream",
     "text": [
      "2002: communities = 11\n"
     ]
    },
    {
     "name": "stderr",
     "output_type": "stream",
     "text": [
      "C:\\Users\\12693\\AppData\\Local\\Temp\\ipykernel_24340\\1369115391.py:80: MatplotlibDeprecationWarning: The get_cmap function was deprecated in Matplotlib 3.7 and will be removed in 3.11. Use ``matplotlib.colormaps[name]`` or ``matplotlib.colormaps.get_cmap()`` or ``pyplot.get_cmap()`` instead.\n",
      "  cmap = cm.get_cmap(cmap_name, 20)\n",
      "Build layers:  73%|███████▎  | 56/77 [01:02<00:45,  2.15s/it]"
     ]
    },
    {
     "name": "stdout",
     "output_type": "stream",
     "text": [
      "2003: communities = 14\n"
     ]
    },
    {
     "name": "stderr",
     "output_type": "stream",
     "text": [
      "C:\\Users\\12693\\AppData\\Local\\Temp\\ipykernel_24340\\1369115391.py:80: MatplotlibDeprecationWarning: The get_cmap function was deprecated in Matplotlib 3.7 and will be removed in 3.11. Use ``matplotlib.colormaps[name]`` or ``matplotlib.colormaps.get_cmap()`` or ``pyplot.get_cmap()`` instead.\n",
      "  cmap = cm.get_cmap(cmap_name, 20)\n",
      "Build layers:  74%|███████▍  | 57/77 [01:04<00:43,  2.19s/it]"
     ]
    },
    {
     "name": "stdout",
     "output_type": "stream",
     "text": [
      "2004: communities = 7\n"
     ]
    },
    {
     "name": "stderr",
     "output_type": "stream",
     "text": [
      "C:\\Users\\12693\\AppData\\Local\\Temp\\ipykernel_24340\\1369115391.py:80: MatplotlibDeprecationWarning: The get_cmap function was deprecated in Matplotlib 3.7 and will be removed in 3.11. Use ``matplotlib.colormaps[name]`` or ``matplotlib.colormaps.get_cmap()`` or ``pyplot.get_cmap()`` instead.\n",
      "  cmap = cm.get_cmap(cmap_name, 20)\n",
      "Build layers:  75%|███████▌  | 58/77 [01:06<00:42,  2.23s/it]"
     ]
    },
    {
     "name": "stdout",
     "output_type": "stream",
     "text": [
      "2005: communities = 4\n"
     ]
    },
    {
     "name": "stderr",
     "output_type": "stream",
     "text": [
      "C:\\Users\\12693\\AppData\\Local\\Temp\\ipykernel_24340\\1369115391.py:80: MatplotlibDeprecationWarning: The get_cmap function was deprecated in Matplotlib 3.7 and will be removed in 3.11. Use ``matplotlib.colormaps[name]`` or ``matplotlib.colormaps.get_cmap()`` or ``pyplot.get_cmap()`` instead.\n",
      "  cmap = cm.get_cmap(cmap_name, 20)\n",
      "Build layers:  77%|███████▋  | 59/77 [01:09<00:40,  2.27s/it]"
     ]
    },
    {
     "name": "stdout",
     "output_type": "stream",
     "text": [
      "2006: communities = 10\n"
     ]
    },
    {
     "name": "stderr",
     "output_type": "stream",
     "text": [
      "C:\\Users\\12693\\AppData\\Local\\Temp\\ipykernel_24340\\1369115391.py:80: MatplotlibDeprecationWarning: The get_cmap function was deprecated in Matplotlib 3.7 and will be removed in 3.11. Use ``matplotlib.colormaps[name]`` or ``matplotlib.colormaps.get_cmap()`` or ``pyplot.get_cmap()`` instead.\n",
      "  cmap = cm.get_cmap(cmap_name, 20)\n",
      "Build layers:  78%|███████▊  | 60/77 [01:11<00:39,  2.31s/it]"
     ]
    },
    {
     "name": "stdout",
     "output_type": "stream",
     "text": [
      "2007: communities = 10\n"
     ]
    },
    {
     "name": "stderr",
     "output_type": "stream",
     "text": [
      "C:\\Users\\12693\\AppData\\Local\\Temp\\ipykernel_24340\\1369115391.py:80: MatplotlibDeprecationWarning: The get_cmap function was deprecated in Matplotlib 3.7 and will be removed in 3.11. Use ``matplotlib.colormaps[name]`` or ``matplotlib.colormaps.get_cmap()`` or ``pyplot.get_cmap()`` instead.\n",
      "  cmap = cm.get_cmap(cmap_name, 20)\n",
      "Build layers:  79%|███████▉  | 61/77 [01:14<00:37,  2.34s/it]"
     ]
    },
    {
     "name": "stdout",
     "output_type": "stream",
     "text": [
      "2008: communities = 34\n"
     ]
    },
    {
     "name": "stderr",
     "output_type": "stream",
     "text": [
      "C:\\Users\\12693\\AppData\\Local\\Temp\\ipykernel_24340\\1369115391.py:80: MatplotlibDeprecationWarning: The get_cmap function was deprecated in Matplotlib 3.7 and will be removed in 3.11. Use ``matplotlib.colormaps[name]`` or ``matplotlib.colormaps.get_cmap()`` or ``pyplot.get_cmap()`` instead.\n",
      "  cmap = cm.get_cmap(cmap_name, 20)\n",
      "Build layers:  81%|████████  | 62/77 [01:16<00:35,  2.37s/it]"
     ]
    },
    {
     "name": "stdout",
     "output_type": "stream",
     "text": [
      "2009: communities = 8\n"
     ]
    },
    {
     "name": "stderr",
     "output_type": "stream",
     "text": [
      "C:\\Users\\12693\\AppData\\Local\\Temp\\ipykernel_24340\\1369115391.py:80: MatplotlibDeprecationWarning: The get_cmap function was deprecated in Matplotlib 3.7 and will be removed in 3.11. Use ``matplotlib.colormaps[name]`` or ``matplotlib.colormaps.get_cmap()`` or ``pyplot.get_cmap()`` instead.\n",
      "  cmap = cm.get_cmap(cmap_name, 20)\n",
      "Build layers:  82%|████████▏ | 63/77 [01:18<00:33,  2.37s/it]"
     ]
    },
    {
     "name": "stdout",
     "output_type": "stream",
     "text": [
      "2010: communities = 36\n"
     ]
    },
    {
     "name": "stderr",
     "output_type": "stream",
     "text": [
      "C:\\Users\\12693\\AppData\\Local\\Temp\\ipykernel_24340\\1369115391.py:80: MatplotlibDeprecationWarning: The get_cmap function was deprecated in Matplotlib 3.7 and will be removed in 3.11. Use ``matplotlib.colormaps[name]`` or ``matplotlib.colormaps.get_cmap()`` or ``pyplot.get_cmap()`` instead.\n",
      "  cmap = cm.get_cmap(cmap_name, 20)\n",
      "Build layers:  83%|████████▎ | 64/77 [01:21<00:31,  2.45s/it]"
     ]
    },
    {
     "name": "stdout",
     "output_type": "stream",
     "text": [
      "2011: communities = 9\n"
     ]
    },
    {
     "name": "stderr",
     "output_type": "stream",
     "text": [
      "C:\\Users\\12693\\AppData\\Local\\Temp\\ipykernel_24340\\1369115391.py:80: MatplotlibDeprecationWarning: The get_cmap function was deprecated in Matplotlib 3.7 and will be removed in 3.11. Use ``matplotlib.colormaps[name]`` or ``matplotlib.colormaps.get_cmap()`` or ``pyplot.get_cmap()`` instead.\n",
      "  cmap = cm.get_cmap(cmap_name, 20)\n",
      "Build layers:  84%|████████▍ | 65/77 [01:23<00:29,  2.46s/it]"
     ]
    },
    {
     "name": "stdout",
     "output_type": "stream",
     "text": [
      "2012: communities = 8\n"
     ]
    },
    {
     "name": "stderr",
     "output_type": "stream",
     "text": [
      "C:\\Users\\12693\\AppData\\Local\\Temp\\ipykernel_24340\\1369115391.py:80: MatplotlibDeprecationWarning: The get_cmap function was deprecated in Matplotlib 3.7 and will be removed in 3.11. Use ``matplotlib.colormaps[name]`` or ``matplotlib.colormaps.get_cmap()`` or ``pyplot.get_cmap()`` instead.\n",
      "  cmap = cm.get_cmap(cmap_name, 20)\n",
      "Build layers:  86%|████████▌ | 66/77 [01:26<00:27,  2.48s/it]"
     ]
    },
    {
     "name": "stdout",
     "output_type": "stream",
     "text": [
      "2013: communities = 6\n"
     ]
    },
    {
     "name": "stderr",
     "output_type": "stream",
     "text": [
      "C:\\Users\\12693\\AppData\\Local\\Temp\\ipykernel_24340\\1369115391.py:80: MatplotlibDeprecationWarning: The get_cmap function was deprecated in Matplotlib 3.7 and will be removed in 3.11. Use ``matplotlib.colormaps[name]`` or ``matplotlib.colormaps.get_cmap()`` or ``pyplot.get_cmap()`` instead.\n",
      "  cmap = cm.get_cmap(cmap_name, 20)\n",
      "Build layers:  87%|████████▋ | 67/77 [01:29<00:24,  2.49s/it]"
     ]
    },
    {
     "name": "stdout",
     "output_type": "stream",
     "text": [
      "2014: communities = 7\n"
     ]
    },
    {
     "name": "stderr",
     "output_type": "stream",
     "text": [
      "C:\\Users\\12693\\AppData\\Local\\Temp\\ipykernel_24340\\1369115391.py:80: MatplotlibDeprecationWarning: The get_cmap function was deprecated in Matplotlib 3.7 and will be removed in 3.11. Use ``matplotlib.colormaps[name]`` or ``matplotlib.colormaps.get_cmap()`` or ``pyplot.get_cmap()`` instead.\n",
      "  cmap = cm.get_cmap(cmap_name, 20)\n",
      "Build layers:  88%|████████▊ | 68/77 [01:31<00:22,  2.49s/it]"
     ]
    },
    {
     "name": "stdout",
     "output_type": "stream",
     "text": [
      "2015: communities = 32\n"
     ]
    },
    {
     "name": "stderr",
     "output_type": "stream",
     "text": [
      "C:\\Users\\12693\\AppData\\Local\\Temp\\ipykernel_24340\\1369115391.py:80: MatplotlibDeprecationWarning: The get_cmap function was deprecated in Matplotlib 3.7 and will be removed in 3.11. Use ``matplotlib.colormaps[name]`` or ``matplotlib.colormaps.get_cmap()`` or ``pyplot.get_cmap()`` instead.\n",
      "  cmap = cm.get_cmap(cmap_name, 20)\n",
      "Build layers:  90%|████████▉ | 69/77 [01:34<00:20,  2.52s/it]"
     ]
    },
    {
     "name": "stdout",
     "output_type": "stream",
     "text": [
      "2016: communities = 28\n"
     ]
    },
    {
     "name": "stderr",
     "output_type": "stream",
     "text": [
      "C:\\Users\\12693\\AppData\\Local\\Temp\\ipykernel_24340\\1369115391.py:80: MatplotlibDeprecationWarning: The get_cmap function was deprecated in Matplotlib 3.7 and will be removed in 3.11. Use ``matplotlib.colormaps[name]`` or ``matplotlib.colormaps.get_cmap()`` or ``pyplot.get_cmap()`` instead.\n",
      "  cmap = cm.get_cmap(cmap_name, 20)\n",
      "Build layers:  91%|█████████ | 70/77 [01:36<00:17,  2.57s/it]"
     ]
    },
    {
     "name": "stdout",
     "output_type": "stream",
     "text": [
      "2017: communities = 29\n"
     ]
    },
    {
     "name": "stderr",
     "output_type": "stream",
     "text": [
      "C:\\Users\\12693\\AppData\\Local\\Temp\\ipykernel_24340\\1369115391.py:80: MatplotlibDeprecationWarning: The get_cmap function was deprecated in Matplotlib 3.7 and will be removed in 3.11. Use ``matplotlib.colormaps[name]`` or ``matplotlib.colormaps.get_cmap()`` or ``pyplot.get_cmap()`` instead.\n",
      "  cmap = cm.get_cmap(cmap_name, 20)\n",
      "Build layers:  92%|█████████▏| 71/77 [01:39<00:15,  2.55s/it]"
     ]
    },
    {
     "name": "stdout",
     "output_type": "stream",
     "text": [
      "2018: communities = 24\n"
     ]
    },
    {
     "name": "stderr",
     "output_type": "stream",
     "text": [
      "C:\\Users\\12693\\AppData\\Local\\Temp\\ipykernel_24340\\1369115391.py:80: MatplotlibDeprecationWarning: The get_cmap function was deprecated in Matplotlib 3.7 and will be removed in 3.11. Use ``matplotlib.colormaps[name]`` or ``matplotlib.colormaps.get_cmap()`` or ``pyplot.get_cmap()`` instead.\n",
      "  cmap = cm.get_cmap(cmap_name, 20)\n",
      "Build layers:  94%|█████████▎| 72/77 [01:41<00:12,  2.57s/it]"
     ]
    },
    {
     "name": "stdout",
     "output_type": "stream",
     "text": [
      "2019: communities = 6\n"
     ]
    },
    {
     "name": "stderr",
     "output_type": "stream",
     "text": [
      "C:\\Users\\12693\\AppData\\Local\\Temp\\ipykernel_24340\\1369115391.py:80: MatplotlibDeprecationWarning: The get_cmap function was deprecated in Matplotlib 3.7 and will be removed in 3.11. Use ``matplotlib.colormaps[name]`` or ``matplotlib.colormaps.get_cmap()`` or ``pyplot.get_cmap()`` instead.\n",
      "  cmap = cm.get_cmap(cmap_name, 20)\n",
      "Build layers:  95%|█████████▍| 73/77 [01:44<00:10,  2.56s/it]"
     ]
    },
    {
     "name": "stdout",
     "output_type": "stream",
     "text": [
      "2020: communities = 29\n"
     ]
    },
    {
     "name": "stderr",
     "output_type": "stream",
     "text": [
      "C:\\Users\\12693\\AppData\\Local\\Temp\\ipykernel_24340\\1369115391.py:80: MatplotlibDeprecationWarning: The get_cmap function was deprecated in Matplotlib 3.7 and will be removed in 3.11. Use ``matplotlib.colormaps[name]`` or ``matplotlib.colormaps.get_cmap()`` or ``pyplot.get_cmap()`` instead.\n",
      "  cmap = cm.get_cmap(cmap_name, 20)\n",
      "Build layers:  96%|█████████▌| 74/77 [01:47<00:07,  2.60s/it]"
     ]
    },
    {
     "name": "stdout",
     "output_type": "stream",
     "text": [
      "2021: communities = 34\n"
     ]
    },
    {
     "name": "stderr",
     "output_type": "stream",
     "text": [
      "C:\\Users\\12693\\AppData\\Local\\Temp\\ipykernel_24340\\1369115391.py:80: MatplotlibDeprecationWarning: The get_cmap function was deprecated in Matplotlib 3.7 and will be removed in 3.11. Use ``matplotlib.colormaps[name]`` or ``matplotlib.colormaps.get_cmap()`` or ``pyplot.get_cmap()`` instead.\n",
      "  cmap = cm.get_cmap(cmap_name, 20)\n",
      "Build layers:  97%|█████████▋| 75/77 [01:49<00:05,  2.63s/it]"
     ]
    },
    {
     "name": "stdout",
     "output_type": "stream",
     "text": [
      "2022: communities = 5\n"
     ]
    },
    {
     "name": "stderr",
     "output_type": "stream",
     "text": [
      "C:\\Users\\12693\\AppData\\Local\\Temp\\ipykernel_24340\\1369115391.py:80: MatplotlibDeprecationWarning: The get_cmap function was deprecated in Matplotlib 3.7 and will be removed in 3.11. Use ``matplotlib.colormaps[name]`` or ``matplotlib.colormaps.get_cmap()`` or ``pyplot.get_cmap()`` instead.\n",
      "  cmap = cm.get_cmap(cmap_name, 20)\n",
      "Build layers:  99%|█████████▊| 76/77 [01:52<00:02,  2.64s/it]"
     ]
    },
    {
     "name": "stdout",
     "output_type": "stream",
     "text": [
      "2023: communities = 5\n"
     ]
    },
    {
     "name": "stderr",
     "output_type": "stream",
     "text": [
      "C:\\Users\\12693\\AppData\\Local\\Temp\\ipykernel_24340\\1369115391.py:80: MatplotlibDeprecationWarning: The get_cmap function was deprecated in Matplotlib 3.7 and will be removed in 3.11. Use ``matplotlib.colormaps[name]`` or ``matplotlib.colormaps.get_cmap()`` or ``pyplot.get_cmap()`` instead.\n",
      "  cmap = cm.get_cmap(cmap_name, 20)\n",
      "Build layers: 100%|██████████| 77/77 [01:55<00:00,  1.50s/it]"
     ]
    },
    {
     "name": "stdout",
     "output_type": "stream",
     "text": [
      "2024: communities = 32\n"
     ]
    },
    {
     "name": "stderr",
     "output_type": "stream",
     "text": [
      "\n"
     ]
    },
    {
     "name": "stdout",
     "output_type": "stream",
     "text": [
      "Saved → imf_trade_community_1948_2024_E500_R0.5.html\n"
     ]
    }
   ],
   "source": [
    "# -*- coding: utf-8 -*-\n",
    "\"\"\"\n",
    "IMF IMTS CSV → 全球出口网络社区结构 (多年份滑块)\n",
    "================================================\n",
    "\n",
    "* 读取 IMF IMTS Timeseries-per-row CSV\n",
    "* Louvain 社区划分 → 各社区着不同颜色\n",
    "* Folium + 自定义年份滑块切换视图\n",
    "\"\"\"\n",
    "\n",
    "from __future__ import annotations\n",
    "from pathlib import Path\n",
    "from typing import Dict, Tuple\n",
    "\n",
    "import pandas as pd\n",
    "import networkx as nx\n",
    "from community import community_louvain          # Louvain\n",
    "import folium\n",
    "from folium.plugins import AntPath\n",
    "from branca.element import MacroElement, Template\n",
    "from matplotlib import cm, colors\n",
    "from tqdm import tqdm\n",
    "\n",
    "# ---------- 参数 ----------\n",
    "FILE_CSV   = \"IMF_IMTS_Exports_1948_2024.csv\"\n",
    "COORD_CSV  = \"iso3_to_latlon.csv\"\n",
    "YEAR_START, YEAR_END = 1948, 2024\n",
    "TOP_K_EDGE = 500          # 为减轻可视化负担，仅取前 K 条出口额边\n",
    "EDGE_OPACITY = 1          # 边透明度（跨社区变淡）  \n",
    "MIN_TRADE   = None        # 若想滤掉过小贸易额，可设阈值\n",
    "\n",
    "# ---------- 坐标 ----------\n",
    "def load_coord(filepath: str | Path) -> Dict[str, Tuple[float, float]]:\n",
    "    df = pd.read_csv(filepath)\n",
    "    out = {}\n",
    "    for _, r in df.iterrows():\n",
    "        lat, lon = r.Lat, r.Lon\n",
    "        if pd.isna(lat) or pd.isna(lon):\n",
    "            continue  # 丢弃无效坐标\n",
    "        out[r.ISO3] = (lat, lon)\n",
    "    return out\n",
    "\n",
    "coord = load_coord(COORD_CSV)\n",
    "\n",
    "# ---------- 加载年度数据 ----------\n",
    "def load_year(csv: str | Path, year: int) -> pd.DataFrame:\n",
    "    cols = [\"COUNTRY.ID\", \"COUNTERPART_COUNTRY.ID\", str(year)]\n",
    "    df = (pd.read_csv(csv, low_memory=False)[cols]\n",
    "          .rename(columns={\"COUNTRY.ID\": \"src\",\n",
    "                           \"COUNTERPART_COUNTRY.ID\": \"dst\",\n",
    "                           str(year): \"value\"})  # ← 统一命名\n",
    "          .dropna(subset=[\"value\"]))  # 先丢掉值为空的行\n",
    "    df = df[(df.value > 0) & (df.src != df.dst)]  # 排除自引用行\n",
    "\n",
    "    # ----- 过滤 src 和 dst 是否有有效坐标 -----\n",
    "    df = df[df['src'].isin(coord.keys()) & df['dst'].isin(coord.keys())]\n",
    "    \n",
    "    if MIN_TRADE is not None:\n",
    "        df = df[df.value > MIN_TRADE]\n",
    "    return df.reset_index(drop=True)\n",
    "\n",
    "# ---------- 构建 Louvain 划分 ----------\n",
    "def detect_communities(df: pd.DataFrame) -> Dict[str, int]:\n",
    "    G = nx.Graph()\n",
    "    for _, r in df.iterrows():\n",
    "        G.add_edge(r.src, r.dst, weight=r.value)\n",
    "    return community_louvain.best_partition(G, weight='weight',resolution=0.5)\n",
    "\n",
    "def gen_palette(n_comm: int) -> list[str]:\n",
    "    \"\"\"\n",
    "    生成不包含红色系的调色板（排除容易与跨区边红色混淆的颜色）。\n",
    "    使用 matplotlib 的 tab20 / tab20b / tab20c 联合拼接。\n",
    "    \"\"\"\n",
    "    exclude_hues = {\"#d62728\", \"#e31a1c\", \"#ff7f0e\", \"#f15a60\", \"#f28e2b\", \"#e15759\"}  # 红/橙/粉\n",
    "    seen = set()\n",
    "    palette = []\n",
    "\n",
    "    # 联合多个 colormap，以确保足够颜色\n",
    "    for cmap_name in [\"tab20\", \"tab20b\", \"tab20c\", \"Set3\"]:\n",
    "        cmap = cm.get_cmap(cmap_name, 20)\n",
    "        for i in range(cmap.N):\n",
    "            hex_color = colors.rgb2hex(cmap(i))\n",
    "            if hex_color in exclude_hues or hex_color in seen:\n",
    "                continue\n",
    "            seen.add(hex_color)\n",
    "            palette.append(hex_color)\n",
    "            if len(palette) >= n_comm:\n",
    "                return palette\n",
    "\n",
    "    raise ValueError(\"Too many communities – not enough safe colors without red tones.\")\n",
    "\n",
    "\n",
    "# ---------- 单年图层（新版统一配色） ----------\n",
    "\n",
    "def build_layer(df: pd.DataFrame, year: int) -> folium.FeatureGroup:\n",
    "    df = df.nlargest(TOP_K_EDGE, \"value\")  # 统一字段名为 'value'\n",
    "\n",
    "    # ------ Louvain 社区划分 ------\n",
    "    part = detect_communities(df)\n",
    "    comm_ids = sorted(set(part.values()))\n",
    "    palette = gen_palette(len(comm_ids))\n",
    "    comm_color = {cid: palette[i] for i, cid in enumerate(comm_ids)}\n",
    "\n",
    "    # ------ 颜色与边宽度映射（YlOrRd，对数归一） ------\n",
    "    vmin, vmax = df[\"value\"].min(), df[\"value\"].max()\n",
    "    norm = colors.Normalize(vmin=max(vmin, 1), vmax=vmax)\n",
    "    edge_weight = lambda val: 0.6 + 3 * norm(val)\n",
    "\n",
    "    # ------ 节点尺寸（以 src 出口总额） ------\n",
    "    out_sum = df.groupby(\"src\")[\"value\"].sum()\n",
    "    nodes_in_year = {iso for iso in part if iso in coord}\n",
    "\n",
    "    fg = folium.FeatureGroup(name=str(year), show=False)\n",
    "\n",
    "    for iso in nodes_in_year:\n",
    "        lat_lon = coord.get(iso)\n",
    "        if lat_lon is None or pd.isna(lat_lon[0]) or pd.isna(lat_lon[1]):\n",
    "            continue\n",
    "        lat, lon = lat_lon\n",
    "        total = out_sum.get(iso, 0)\n",
    "        radius = max(3, (total ** 0.5) / 150)\n",
    "        color = comm_color.get(part[iso], \"#666666\")\n",
    "\n",
    "        folium.CircleMarker(\n",
    "            [lat, lon],\n",
    "            radius=radius,\n",
    "            color=color,\n",
    "            weight=2,\n",
    "            fill=True,\n",
    "            fill_color=color,\n",
    "            fill_opacity=0.7,\n",
    "            tooltip=f\"{iso} (comm {part[iso]})\\n{total:,.0f} USD exports\"\n",
    "        ).add_to(fg)\n",
    "\n",
    "    # ------ 边：按是否跨社区设置透明度 ------\n",
    "    for _, r in df.iterrows():\n",
    "        if r.src not in coord or r.dst not in coord:\n",
    "            continue\n",
    "        lat1, lon1 = coord[r.src]\n",
    "        lat2, lon2 = coord[r.dst]\n",
    "        if pd.isna(lat1) or pd.isna(lat2):\n",
    "            continue\n",
    "\n",
    "        same_comm = part.get(r.src) == part.get(r.dst)\n",
    "        edge_color_value = comm_color.get(part.get(r.src), \"#666666\") if same_comm else \"red\"\n",
    "        opacity = 1.0 if same_comm else 0.2  # ← 跨社区变淡\n",
    "\n",
    "        folium.PolyLine(\n",
    "            [[lat1, lon1], [lat2, lon2]],\n",
    "            weight=edge_weight(r.value),\n",
    "            color=edge_color_value,\n",
    "            opacity=opacity\n",
    "        ).add_to(fg)\n",
    "\n",
    "    return fg\n",
    "\n",
    "# ---------- 滑块 ----------\n",
    "class YearSlider(MacroElement):\n",
    "    _template = Template(\"\"\"\n",
    "    {% macro script(this,kwargs) %}\n",
    "        var slider = L.DomUtil.create('div', 'year-slider');\n",
    "        slider.innerHTML = '<input type=\"range\" min=\"{{this.min}}\" max=\"{{this.max}}\" value=\"{{this.val}}\" id=\"ys\"> <span id=\"yl\">{{this.val}}</span>';\n",
    "        slider.style.position = 'fixed'; slider.style.bottom = '50px'; slider.style.left = '50px';\n",
    "        slider.style.background='white'; slider.style.padding='8px'; slider.style.zIndex='9999';\n",
    "        slider.style.borderRadius='4px'; slider.style.boxShadow='0 0 10px rgba(0,0,0,.3)';\n",
    "        L.DomEvent.disableClickPropagation(slider);\n",
    "        L.DomEvent.disableScrollPropagation(slider);\n",
    "        {{this._parent.get_name()}}.getContainer().appendChild(slider);\n",
    "\n",
    "        var layers = {\n",
    "        {% for y,n in this.names.items() %}\n",
    "            \"{{y}}\": {{n}},\n",
    "        {% endfor %}\n",
    "        };\n",
    "\n",
    "        function show(y){\n",
    "            Object.keys(layers).forEach(k=>{\n",
    "                if(k===y){ if(!{{this._parent.get_name()}}.hasLayer(layers[k])) {{this._parent.get_name()}}.addLayer(layers[k]); }\n",
    "                else { if({{this._parent.get_name()}}.hasLayer(layers[k])) {{this._parent.get_name()}}.removeLayer(layers[k]); }\n",
    "            });\n",
    "        }\n",
    "        document.getElementById('ys').addEventListener('input',e=>{\n",
    "            var y=e.target.value; document.getElementById('yl').innerHTML=y; show(y);\n",
    "        });\n",
    "        show(String({{this.val}}));\n",
    "    {% endmacro %}\n",
    "    \"\"\")\n",
    "\n",
    "    def __init__(self, names: Dict[int,str], start:int, end:int):\n",
    "        super().__init__()\n",
    "        self.names, self.val, self.min, self.max = names, start, start, end\n",
    "\n",
    "# ---------- 主 ----------\n",
    "def main():\n",
    "    m = folium.Map(location=[20,0], zoom_start=2, tiles='cartodbpositron')\n",
    "    names = {}\n",
    "    for y in tqdm(range(YEAR_START, YEAR_END+1), desc=\"Build layers\"):\n",
    "        df = load_year(FILE_CSV, y)\n",
    "        layer = build_layer(df, y)\n",
    "        layer.add_to(m)\n",
    "        names[y] = layer.get_name()\n",
    "        print(f\"{y}: communities = {len(set(detect_communities(df).values()))}\")\n",
    "\n",
    "    m.add_child(YearSlider(names, YEAR_START, YEAR_END))\n",
    "    m.get_root().html.add_child(folium.Element(\n",
    "        f\"<h4 style='text-align:center;font-size:20px'>Trade‐Community Map {YEAR_START}–{YEAR_END}</h4>\"))\n",
    "\n",
    "    # Adding Legend\n",
    "    legend = \"\"\"\n",
    "        <div style=\"position: fixed; top: 50px; right: 100px; z-index: 9999; font-size: 14px; background: white; padding: 10px; border-radius: 5px;\">\n",
    "            <strong>Legend:</strong><br>\n",
    "            <span style=\"color:red;\">Cross-region connections</span>\n",
    "        </div>\n",
    "    \"\"\"\n",
    "    m.get_root().html.add_child(folium.Element(legend))\n",
    "\n",
    "    out = f\"imf_trade_community_{YEAR_START}_{YEAR_END}_E{TOP_K_EDGE}_R0.5.html\"\n",
    "    m.save(out)\n",
    "    print(\"Saved →\", out)\n",
    "\n",
    "if __name__ == \"__main__\":\n",
    "    main()\n"
   ]
  },
  {
   "cell_type": "markdown",
   "id": "b81c42f5",
   "metadata": {},
   "source": [
    "## 显示以某个国家所在的社区"
   ]
  },
  {
   "cell_type": "code",
   "execution_count": 40,
   "id": "302ee174",
   "metadata": {},
   "outputs": [
    {
     "name": "stderr",
     "output_type": "stream",
     "text": [
      "Building focus layers for USA:   0%|          | 0/77 [00:00<?, ?it/s]C:\\Users\\12693\\AppData\\Local\\Temp\\ipykernel_16848\\3442745241.py:80: MatplotlibDeprecationWarning: The get_cmap function was deprecated in Matplotlib 3.7 and will be removed in 3.11. Use ``matplotlib.colormaps[name]`` or ``matplotlib.colormaps.get_cmap()`` or ``pyplot.get_cmap()`` instead.\n",
      "  cmap = cm.get_cmap(cmap_name, 20)\n",
      "Building focus layers for USA:   1%|▏         | 1/77 [00:00<00:42,  1.77it/s]C:\\Users\\12693\\AppData\\Local\\Temp\\ipykernel_16848\\3442745241.py:80: MatplotlibDeprecationWarning: The get_cmap function was deprecated in Matplotlib 3.7 and will be removed in 3.11. Use ``matplotlib.colormaps[name]`` or ``matplotlib.colormaps.get_cmap()`` or ``pyplot.get_cmap()`` instead.\n",
      "  cmap = cm.get_cmap(cmap_name, 20)\n",
      "Building focus layers for USA:   3%|▎         | 2/77 [00:01<00:39,  1.88it/s]C:\\Users\\12693\\AppData\\Local\\Temp\\ipykernel_16848\\3442745241.py:80: MatplotlibDeprecationWarning: The get_cmap function was deprecated in Matplotlib 3.7 and will be removed in 3.11. Use ``matplotlib.colormaps[name]`` or ``matplotlib.colormaps.get_cmap()`` or ``pyplot.get_cmap()`` instead.\n",
      "  cmap = cm.get_cmap(cmap_name, 20)\n",
      "Building focus layers for USA:   4%|▍         | 3/77 [00:01<00:39,  1.89it/s]C:\\Users\\12693\\AppData\\Local\\Temp\\ipykernel_16848\\3442745241.py:80: MatplotlibDeprecationWarning: The get_cmap function was deprecated in Matplotlib 3.7 and will be removed in 3.11. Use ``matplotlib.colormaps[name]`` or ``matplotlib.colormaps.get_cmap()`` or ``pyplot.get_cmap()`` instead.\n",
      "  cmap = cm.get_cmap(cmap_name, 20)\n",
      "Building focus layers for USA:   5%|▌         | 4/77 [00:02<00:38,  1.88it/s]C:\\Users\\12693\\AppData\\Local\\Temp\\ipykernel_16848\\3442745241.py:80: MatplotlibDeprecationWarning: The get_cmap function was deprecated in Matplotlib 3.7 and will be removed in 3.11. Use ``matplotlib.colormaps[name]`` or ``matplotlib.colormaps.get_cmap()`` or ``pyplot.get_cmap()`` instead.\n",
      "  cmap = cm.get_cmap(cmap_name, 20)\n",
      "Building focus layers for USA:   6%|▋         | 5/77 [00:02<00:39,  1.84it/s]C:\\Users\\12693\\AppData\\Local\\Temp\\ipykernel_16848\\3442745241.py:80: MatplotlibDeprecationWarning: The get_cmap function was deprecated in Matplotlib 3.7 and will be removed in 3.11. Use ``matplotlib.colormaps[name]`` or ``matplotlib.colormaps.get_cmap()`` or ``pyplot.get_cmap()`` instead.\n",
      "  cmap = cm.get_cmap(cmap_name, 20)\n",
      "Building focus layers for USA:   8%|▊         | 6/77 [00:03<00:38,  1.86it/s]C:\\Users\\12693\\AppData\\Local\\Temp\\ipykernel_16848\\3442745241.py:80: MatplotlibDeprecationWarning: The get_cmap function was deprecated in Matplotlib 3.7 and will be removed in 3.11. Use ``matplotlib.colormaps[name]`` or ``matplotlib.colormaps.get_cmap()`` or ``pyplot.get_cmap()`` instead.\n",
      "  cmap = cm.get_cmap(cmap_name, 20)\n",
      "Building focus layers for USA:   9%|▉         | 7/77 [00:03<00:37,  1.87it/s]C:\\Users\\12693\\AppData\\Local\\Temp\\ipykernel_16848\\3442745241.py:80: MatplotlibDeprecationWarning: The get_cmap function was deprecated in Matplotlib 3.7 and will be removed in 3.11. Use ``matplotlib.colormaps[name]`` or ``matplotlib.colormaps.get_cmap()`` or ``pyplot.get_cmap()`` instead.\n",
      "  cmap = cm.get_cmap(cmap_name, 20)\n",
      "Building focus layers for USA:  10%|█         | 8/77 [00:04<00:37,  1.84it/s]C:\\Users\\12693\\AppData\\Local\\Temp\\ipykernel_16848\\3442745241.py:80: MatplotlibDeprecationWarning: The get_cmap function was deprecated in Matplotlib 3.7 and will be removed in 3.11. Use ``matplotlib.colormaps[name]`` or ``matplotlib.colormaps.get_cmap()`` or ``pyplot.get_cmap()`` instead.\n",
      "  cmap = cm.get_cmap(cmap_name, 20)\n",
      "Building focus layers for USA:  12%|█▏        | 9/77 [00:04<00:36,  1.87it/s]C:\\Users\\12693\\AppData\\Local\\Temp\\ipykernel_16848\\3442745241.py:80: MatplotlibDeprecationWarning: The get_cmap function was deprecated in Matplotlib 3.7 and will be removed in 3.11. Use ``matplotlib.colormaps[name]`` or ``matplotlib.colormaps.get_cmap()`` or ``pyplot.get_cmap()`` instead.\n",
      "  cmap = cm.get_cmap(cmap_name, 20)\n",
      "Building focus layers for USA:  13%|█▎        | 10/77 [00:05<00:37,  1.79it/s]C:\\Users\\12693\\AppData\\Local\\Temp\\ipykernel_16848\\3442745241.py:80: MatplotlibDeprecationWarning: The get_cmap function was deprecated in Matplotlib 3.7 and will be removed in 3.11. Use ``matplotlib.colormaps[name]`` or ``matplotlib.colormaps.get_cmap()`` or ``pyplot.get_cmap()`` instead.\n",
      "  cmap = cm.get_cmap(cmap_name, 20)\n",
      "Building focus layers for USA:  14%|█▍        | 11/77 [00:05<00:36,  1.82it/s]C:\\Users\\12693\\AppData\\Local\\Temp\\ipykernel_16848\\3442745241.py:80: MatplotlibDeprecationWarning: The get_cmap function was deprecated in Matplotlib 3.7 and will be removed in 3.11. Use ``matplotlib.colormaps[name]`` or ``matplotlib.colormaps.get_cmap()`` or ``pyplot.get_cmap()`` instead.\n",
      "  cmap = cm.get_cmap(cmap_name, 20)\n",
      "Building focus layers for USA:  16%|█▌        | 12/77 [00:06<00:35,  1.82it/s]C:\\Users\\12693\\AppData\\Local\\Temp\\ipykernel_16848\\3442745241.py:80: MatplotlibDeprecationWarning: The get_cmap function was deprecated in Matplotlib 3.7 and will be removed in 3.11. Use ``matplotlib.colormaps[name]`` or ``matplotlib.colormaps.get_cmap()`` or ``pyplot.get_cmap()`` instead.\n",
      "  cmap = cm.get_cmap(cmap_name, 20)\n",
      "Building focus layers for USA:  17%|█▋        | 13/77 [00:07<00:37,  1.70it/s]C:\\Users\\12693\\AppData\\Local\\Temp\\ipykernel_16848\\3442745241.py:80: MatplotlibDeprecationWarning: The get_cmap function was deprecated in Matplotlib 3.7 and will be removed in 3.11. Use ``matplotlib.colormaps[name]`` or ``matplotlib.colormaps.get_cmap()`` or ``pyplot.get_cmap()`` instead.\n",
      "  cmap = cm.get_cmap(cmap_name, 20)\n",
      "Building focus layers for USA:  18%|█▊        | 14/77 [00:07<00:37,  1.70it/s]C:\\Users\\12693\\AppData\\Local\\Temp\\ipykernel_16848\\3442745241.py:80: MatplotlibDeprecationWarning: The get_cmap function was deprecated in Matplotlib 3.7 and will be removed in 3.11. Use ``matplotlib.colormaps[name]`` or ``matplotlib.colormaps.get_cmap()`` or ``pyplot.get_cmap()`` instead.\n",
      "  cmap = cm.get_cmap(cmap_name, 20)\n",
      "Building focus layers for USA:  19%|█▉        | 15/77 [00:08<00:35,  1.74it/s]C:\\Users\\12693\\AppData\\Local\\Temp\\ipykernel_16848\\3442745241.py:80: MatplotlibDeprecationWarning: The get_cmap function was deprecated in Matplotlib 3.7 and will be removed in 3.11. Use ``matplotlib.colormaps[name]`` or ``matplotlib.colormaps.get_cmap()`` or ``pyplot.get_cmap()`` instead.\n",
      "  cmap = cm.get_cmap(cmap_name, 20)\n",
      "Building focus layers for USA:  21%|██        | 16/77 [00:08<00:34,  1.77it/s]C:\\Users\\12693\\AppData\\Local\\Temp\\ipykernel_16848\\3442745241.py:80: MatplotlibDeprecationWarning: The get_cmap function was deprecated in Matplotlib 3.7 and will be removed in 3.11. Use ``matplotlib.colormaps[name]`` or ``matplotlib.colormaps.get_cmap()`` or ``pyplot.get_cmap()`` instead.\n",
      "  cmap = cm.get_cmap(cmap_name, 20)\n",
      "Building focus layers for USA:  22%|██▏       | 17/77 [00:09<00:33,  1.79it/s]C:\\Users\\12693\\AppData\\Local\\Temp\\ipykernel_16848\\3442745241.py:80: MatplotlibDeprecationWarning: The get_cmap function was deprecated in Matplotlib 3.7 and will be removed in 3.11. Use ``matplotlib.colormaps[name]`` or ``matplotlib.colormaps.get_cmap()`` or ``pyplot.get_cmap()`` instead.\n",
      "  cmap = cm.get_cmap(cmap_name, 20)\n",
      "Building focus layers for USA:  23%|██▎       | 18/77 [00:09<00:33,  1.78it/s]C:\\Users\\12693\\AppData\\Local\\Temp\\ipykernel_16848\\3442745241.py:80: MatplotlibDeprecationWarning: The get_cmap function was deprecated in Matplotlib 3.7 and will be removed in 3.11. Use ``matplotlib.colormaps[name]`` or ``matplotlib.colormaps.get_cmap()`` or ``pyplot.get_cmap()`` instead.\n",
      "  cmap = cm.get_cmap(cmap_name, 20)\n",
      "Building focus layers for USA:  25%|██▍       | 19/77 [00:10<00:32,  1.79it/s]C:\\Users\\12693\\AppData\\Local\\Temp\\ipykernel_16848\\3442745241.py:80: MatplotlibDeprecationWarning: The get_cmap function was deprecated in Matplotlib 3.7 and will be removed in 3.11. Use ``matplotlib.colormaps[name]`` or ``matplotlib.colormaps.get_cmap()`` or ``pyplot.get_cmap()`` instead.\n",
      "  cmap = cm.get_cmap(cmap_name, 20)\n",
      "Building focus layers for USA:  26%|██▌       | 20/77 [00:11<00:31,  1.81it/s]C:\\Users\\12693\\AppData\\Local\\Temp\\ipykernel_16848\\3442745241.py:80: MatplotlibDeprecationWarning: The get_cmap function was deprecated in Matplotlib 3.7 and will be removed in 3.11. Use ``matplotlib.colormaps[name]`` or ``matplotlib.colormaps.get_cmap()`` or ``pyplot.get_cmap()`` instead.\n",
      "  cmap = cm.get_cmap(cmap_name, 20)\n",
      "Building focus layers for USA:  27%|██▋       | 21/77 [00:11<00:31,  1.80it/s]C:\\Users\\12693\\AppData\\Local\\Temp\\ipykernel_16848\\3442745241.py:80: MatplotlibDeprecationWarning: The get_cmap function was deprecated in Matplotlib 3.7 and will be removed in 3.11. Use ``matplotlib.colormaps[name]`` or ``matplotlib.colormaps.get_cmap()`` or ``pyplot.get_cmap()`` instead.\n",
      "  cmap = cm.get_cmap(cmap_name, 20)\n",
      "Building focus layers for USA:  29%|██▊       | 22/77 [00:12<00:37,  1.46it/s]C:\\Users\\12693\\AppData\\Local\\Temp\\ipykernel_16848\\3442745241.py:80: MatplotlibDeprecationWarning: The get_cmap function was deprecated in Matplotlib 3.7 and will be removed in 3.11. Use ``matplotlib.colormaps[name]`` or ``matplotlib.colormaps.get_cmap()`` or ``pyplot.get_cmap()`` instead.\n",
      "  cmap = cm.get_cmap(cmap_name, 20)\n",
      "Building focus layers for USA:  30%|██▉       | 23/77 [00:13<00:43,  1.23it/s]C:\\Users\\12693\\AppData\\Local\\Temp\\ipykernel_16848\\3442745241.py:80: MatplotlibDeprecationWarning: The get_cmap function was deprecated in Matplotlib 3.7 and will be removed in 3.11. Use ``matplotlib.colormaps[name]`` or ``matplotlib.colormaps.get_cmap()`` or ``pyplot.get_cmap()`` instead.\n",
      "  cmap = cm.get_cmap(cmap_name, 20)\n",
      "Building focus layers for USA:  31%|███       | 24/77 [00:14<00:48,  1.10it/s]C:\\Users\\12693\\AppData\\Local\\Temp\\ipykernel_16848\\3442745241.py:80: MatplotlibDeprecationWarning: The get_cmap function was deprecated in Matplotlib 3.7 and will be removed in 3.11. Use ``matplotlib.colormaps[name]`` or ``matplotlib.colormaps.get_cmap()`` or ``pyplot.get_cmap()`` instead.\n",
      "  cmap = cm.get_cmap(cmap_name, 20)\n",
      "Building focus layers for USA:  32%|███▏      | 25/77 [00:16<00:51,  1.01it/s]C:\\Users\\12693\\AppData\\Local\\Temp\\ipykernel_16848\\3442745241.py:80: MatplotlibDeprecationWarning: The get_cmap function was deprecated in Matplotlib 3.7 and will be removed in 3.11. Use ``matplotlib.colormaps[name]`` or ``matplotlib.colormaps.get_cmap()`` or ``pyplot.get_cmap()`` instead.\n",
      "  cmap = cm.get_cmap(cmap_name, 20)\n",
      "Building focus layers for USA:  34%|███▍      | 26/77 [00:17<00:52,  1.03s/it]C:\\Users\\12693\\AppData\\Local\\Temp\\ipykernel_16848\\3442745241.py:80: MatplotlibDeprecationWarning: The get_cmap function was deprecated in Matplotlib 3.7 and will be removed in 3.11. Use ``matplotlib.colormaps[name]`` or ``matplotlib.colormaps.get_cmap()`` or ``pyplot.get_cmap()`` instead.\n",
      "  cmap = cm.get_cmap(cmap_name, 20)\n",
      "Building focus layers for USA:  35%|███▌      | 27/77 [00:18<00:53,  1.07s/it]C:\\Users\\12693\\AppData\\Local\\Temp\\ipykernel_16848\\3442745241.py:80: MatplotlibDeprecationWarning: The get_cmap function was deprecated in Matplotlib 3.7 and will be removed in 3.11. Use ``matplotlib.colormaps[name]`` or ``matplotlib.colormaps.get_cmap()`` or ``pyplot.get_cmap()`` instead.\n",
      "  cmap = cm.get_cmap(cmap_name, 20)\n",
      "Building focus layers for USA:  36%|███▋      | 28/77 [00:19<00:53,  1.10s/it]C:\\Users\\12693\\AppData\\Local\\Temp\\ipykernel_16848\\3442745241.py:80: MatplotlibDeprecationWarning: The get_cmap function was deprecated in Matplotlib 3.7 and will be removed in 3.11. Use ``matplotlib.colormaps[name]`` or ``matplotlib.colormaps.get_cmap()`` or ``pyplot.get_cmap()`` instead.\n",
      "  cmap = cm.get_cmap(cmap_name, 20)\n",
      "Building focus layers for USA:  38%|███▊      | 29/77 [00:20<00:52,  1.10s/it]C:\\Users\\12693\\AppData\\Local\\Temp\\ipykernel_16848\\3442745241.py:80: MatplotlibDeprecationWarning: The get_cmap function was deprecated in Matplotlib 3.7 and will be removed in 3.11. Use ``matplotlib.colormaps[name]`` or ``matplotlib.colormaps.get_cmap()`` or ``pyplot.get_cmap()`` instead.\n",
      "  cmap = cm.get_cmap(cmap_name, 20)\n",
      "Building focus layers for USA:  39%|███▉      | 30/77 [00:21<00:51,  1.10s/it]C:\\Users\\12693\\AppData\\Local\\Temp\\ipykernel_16848\\3442745241.py:80: MatplotlibDeprecationWarning: The get_cmap function was deprecated in Matplotlib 3.7 and will be removed in 3.11. Use ``matplotlib.colormaps[name]`` or ``matplotlib.colormaps.get_cmap()`` or ``pyplot.get_cmap()`` instead.\n",
      "  cmap = cm.get_cmap(cmap_name, 20)\n",
      "Building focus layers for USA:  40%|████      | 31/77 [00:22<00:49,  1.08s/it]C:\\Users\\12693\\AppData\\Local\\Temp\\ipykernel_16848\\3442745241.py:80: MatplotlibDeprecationWarning: The get_cmap function was deprecated in Matplotlib 3.7 and will be removed in 3.11. Use ``matplotlib.colormaps[name]`` or ``matplotlib.colormaps.get_cmap()`` or ``pyplot.get_cmap()`` instead.\n",
      "  cmap = cm.get_cmap(cmap_name, 20)\n",
      "Building focus layers for USA:  42%|████▏     | 32/77 [00:23<00:50,  1.11s/it]C:\\Users\\12693\\AppData\\Local\\Temp\\ipykernel_16848\\3442745241.py:80: MatplotlibDeprecationWarning: The get_cmap function was deprecated in Matplotlib 3.7 and will be removed in 3.11. Use ``matplotlib.colormaps[name]`` or ``matplotlib.colormaps.get_cmap()`` or ``pyplot.get_cmap()`` instead.\n",
      "  cmap = cm.get_cmap(cmap_name, 20)\n",
      "Building focus layers for USA:  43%|████▎     | 33/77 [00:25<00:48,  1.10s/it]C:\\Users\\12693\\AppData\\Local\\Temp\\ipykernel_16848\\3442745241.py:80: MatplotlibDeprecationWarning: The get_cmap function was deprecated in Matplotlib 3.7 and will be removed in 3.11. Use ``matplotlib.colormaps[name]`` or ``matplotlib.colormaps.get_cmap()`` or ``pyplot.get_cmap()`` instead.\n",
      "  cmap = cm.get_cmap(cmap_name, 20)\n",
      "Building focus layers for USA:  44%|████▍     | 34/77 [00:26<00:47,  1.11s/it]C:\\Users\\12693\\AppData\\Local\\Temp\\ipykernel_16848\\3442745241.py:80: MatplotlibDeprecationWarning: The get_cmap function was deprecated in Matplotlib 3.7 and will be removed in 3.11. Use ``matplotlib.colormaps[name]`` or ``matplotlib.colormaps.get_cmap()`` or ``pyplot.get_cmap()`` instead.\n",
      "  cmap = cm.get_cmap(cmap_name, 20)\n",
      "Building focus layers for USA:  45%|████▌     | 35/77 [00:27<00:46,  1.11s/it]C:\\Users\\12693\\AppData\\Local\\Temp\\ipykernel_16848\\3442745241.py:80: MatplotlibDeprecationWarning: The get_cmap function was deprecated in Matplotlib 3.7 and will be removed in 3.11. Use ``matplotlib.colormaps[name]`` or ``matplotlib.colormaps.get_cmap()`` or ``pyplot.get_cmap()`` instead.\n",
      "  cmap = cm.get_cmap(cmap_name, 20)\n",
      "Building focus layers for USA:  47%|████▋     | 36/77 [00:28<00:44,  1.09s/it]C:\\Users\\12693\\AppData\\Local\\Temp\\ipykernel_16848\\3442745241.py:80: MatplotlibDeprecationWarning: The get_cmap function was deprecated in Matplotlib 3.7 and will be removed in 3.11. Use ``matplotlib.colormaps[name]`` or ``matplotlib.colormaps.get_cmap()`` or ``pyplot.get_cmap()`` instead.\n",
      "  cmap = cm.get_cmap(cmap_name, 20)\n",
      "Building focus layers for USA:  48%|████▊     | 37/77 [00:29<00:43,  1.08s/it]C:\\Users\\12693\\AppData\\Local\\Temp\\ipykernel_16848\\3442745241.py:80: MatplotlibDeprecationWarning: The get_cmap function was deprecated in Matplotlib 3.7 and will be removed in 3.11. Use ``matplotlib.colormaps[name]`` or ``matplotlib.colormaps.get_cmap()`` or ``pyplot.get_cmap()`` instead.\n",
      "  cmap = cm.get_cmap(cmap_name, 20)\n",
      "Building focus layers for USA:  49%|████▉     | 38/77 [00:30<00:42,  1.10s/it]C:\\Users\\12693\\AppData\\Local\\Temp\\ipykernel_16848\\3442745241.py:80: MatplotlibDeprecationWarning: The get_cmap function was deprecated in Matplotlib 3.7 and will be removed in 3.11. Use ``matplotlib.colormaps[name]`` or ``matplotlib.colormaps.get_cmap()`` or ``pyplot.get_cmap()`` instead.\n",
      "  cmap = cm.get_cmap(cmap_name, 20)\n",
      "Building focus layers for USA:  51%|█████     | 39/77 [00:31<00:42,  1.12s/it]C:\\Users\\12693\\AppData\\Local\\Temp\\ipykernel_16848\\3442745241.py:80: MatplotlibDeprecationWarning: The get_cmap function was deprecated in Matplotlib 3.7 and will be removed in 3.11. Use ``matplotlib.colormaps[name]`` or ``matplotlib.colormaps.get_cmap()`` or ``pyplot.get_cmap()`` instead.\n",
      "  cmap = cm.get_cmap(cmap_name, 20)\n",
      "Building focus layers for USA:  52%|█████▏    | 40/77 [00:32<00:40,  1.10s/it]C:\\Users\\12693\\AppData\\Local\\Temp\\ipykernel_16848\\3442745241.py:80: MatplotlibDeprecationWarning: The get_cmap function was deprecated in Matplotlib 3.7 and will be removed in 3.11. Use ``matplotlib.colormaps[name]`` or ``matplotlib.colormaps.get_cmap()`` or ``pyplot.get_cmap()`` instead.\n",
      "  cmap = cm.get_cmap(cmap_name, 20)\n",
      "Building focus layers for USA:  53%|█████▎    | 41/77 [00:33<00:40,  1.12s/it]C:\\Users\\12693\\AppData\\Local\\Temp\\ipykernel_16848\\3442745241.py:80: MatplotlibDeprecationWarning: The get_cmap function was deprecated in Matplotlib 3.7 and will be removed in 3.11. Use ``matplotlib.colormaps[name]`` or ``matplotlib.colormaps.get_cmap()`` or ``pyplot.get_cmap()`` instead.\n",
      "  cmap = cm.get_cmap(cmap_name, 20)\n",
      "Building focus layers for USA:  55%|█████▍    | 42/77 [00:34<00:38,  1.10s/it]C:\\Users\\12693\\AppData\\Local\\Temp\\ipykernel_16848\\3442745241.py:80: MatplotlibDeprecationWarning: The get_cmap function was deprecated in Matplotlib 3.7 and will be removed in 3.11. Use ``matplotlib.colormaps[name]`` or ``matplotlib.colormaps.get_cmap()`` or ``pyplot.get_cmap()`` instead.\n",
      "  cmap = cm.get_cmap(cmap_name, 20)\n",
      "Building focus layers for USA:  56%|█████▌    | 43/77 [00:36<00:38,  1.12s/it]C:\\Users\\12693\\AppData\\Local\\Temp\\ipykernel_16848\\3442745241.py:80: MatplotlibDeprecationWarning: The get_cmap function was deprecated in Matplotlib 3.7 and will be removed in 3.11. Use ``matplotlib.colormaps[name]`` or ``matplotlib.colormaps.get_cmap()`` or ``pyplot.get_cmap()`` instead.\n",
      "  cmap = cm.get_cmap(cmap_name, 20)\n",
      "Building focus layers for USA:  57%|█████▋    | 44/77 [00:37<00:36,  1.11s/it]C:\\Users\\12693\\AppData\\Local\\Temp\\ipykernel_16848\\3442745241.py:80: MatplotlibDeprecationWarning: The get_cmap function was deprecated in Matplotlib 3.7 and will be removed in 3.11. Use ``matplotlib.colormaps[name]`` or ``matplotlib.colormaps.get_cmap()`` or ``pyplot.get_cmap()`` instead.\n",
      "  cmap = cm.get_cmap(cmap_name, 20)\n",
      "Building focus layers for USA:  58%|█████▊    | 45/77 [00:38<00:40,  1.27s/it]C:\\Users\\12693\\AppData\\Local\\Temp\\ipykernel_16848\\3442745241.py:80: MatplotlibDeprecationWarning: The get_cmap function was deprecated in Matplotlib 3.7 and will be removed in 3.11. Use ``matplotlib.colormaps[name]`` or ``matplotlib.colormaps.get_cmap()`` or ``pyplot.get_cmap()`` instead.\n",
      "  cmap = cm.get_cmap(cmap_name, 20)\n",
      "Building focus layers for USA:  60%|█████▉    | 46/77 [00:39<00:37,  1.22s/it]C:\\Users\\12693\\AppData\\Local\\Temp\\ipykernel_16848\\3442745241.py:80: MatplotlibDeprecationWarning: The get_cmap function was deprecated in Matplotlib 3.7 and will be removed in 3.11. Use ``matplotlib.colormaps[name]`` or ``matplotlib.colormaps.get_cmap()`` or ``pyplot.get_cmap()`` instead.\n",
      "  cmap = cm.get_cmap(cmap_name, 20)\n",
      "Building focus layers for USA:  61%|██████    | 47/77 [00:41<00:35,  1.20s/it]C:\\Users\\12693\\AppData\\Local\\Temp\\ipykernel_16848\\3442745241.py:80: MatplotlibDeprecationWarning: The get_cmap function was deprecated in Matplotlib 3.7 and will be removed in 3.11. Use ``matplotlib.colormaps[name]`` or ``matplotlib.colormaps.get_cmap()`` or ``pyplot.get_cmap()`` instead.\n",
      "  cmap = cm.get_cmap(cmap_name, 20)\n",
      "Building focus layers for USA:  62%|██████▏   | 48/77 [00:42<00:35,  1.21s/it]C:\\Users\\12693\\AppData\\Local\\Temp\\ipykernel_16848\\3442745241.py:80: MatplotlibDeprecationWarning: The get_cmap function was deprecated in Matplotlib 3.7 and will be removed in 3.11. Use ``matplotlib.colormaps[name]`` or ``matplotlib.colormaps.get_cmap()`` or ``pyplot.get_cmap()`` instead.\n",
      "  cmap = cm.get_cmap(cmap_name, 20)\n",
      "Building focus layers for USA:  64%|██████▎   | 49/77 [00:43<00:36,  1.31s/it]C:\\Users\\12693\\AppData\\Local\\Temp\\ipykernel_16848\\3442745241.py:80: MatplotlibDeprecationWarning: The get_cmap function was deprecated in Matplotlib 3.7 and will be removed in 3.11. Use ``matplotlib.colormaps[name]`` or ``matplotlib.colormaps.get_cmap()`` or ``pyplot.get_cmap()`` instead.\n",
      "  cmap = cm.get_cmap(cmap_name, 20)\n",
      "Building focus layers for USA:  65%|██████▍   | 50/77 [00:44<00:33,  1.25s/it]C:\\Users\\12693\\AppData\\Local\\Temp\\ipykernel_16848\\3442745241.py:80: MatplotlibDeprecationWarning: The get_cmap function was deprecated in Matplotlib 3.7 and will be removed in 3.11. Use ``matplotlib.colormaps[name]`` or ``matplotlib.colormaps.get_cmap()`` or ``pyplot.get_cmap()`` instead.\n",
      "  cmap = cm.get_cmap(cmap_name, 20)\n",
      "Building focus layers for USA:  66%|██████▌   | 51/77 [00:46<00:31,  1.21s/it]C:\\Users\\12693\\AppData\\Local\\Temp\\ipykernel_16848\\3442745241.py:80: MatplotlibDeprecationWarning: The get_cmap function was deprecated in Matplotlib 3.7 and will be removed in 3.11. Use ``matplotlib.colormaps[name]`` or ``matplotlib.colormaps.get_cmap()`` or ``pyplot.get_cmap()`` instead.\n",
      "  cmap = cm.get_cmap(cmap_name, 20)\n",
      "Building focus layers for USA:  68%|██████▊   | 52/77 [00:47<00:29,  1.19s/it]C:\\Users\\12693\\AppData\\Local\\Temp\\ipykernel_16848\\3442745241.py:80: MatplotlibDeprecationWarning: The get_cmap function was deprecated in Matplotlib 3.7 and will be removed in 3.11. Use ``matplotlib.colormaps[name]`` or ``matplotlib.colormaps.get_cmap()`` or ``pyplot.get_cmap()`` instead.\n",
      "  cmap = cm.get_cmap(cmap_name, 20)\n",
      "Building focus layers for USA:  69%|██████▉   | 53/77 [00:48<00:27,  1.16s/it]C:\\Users\\12693\\AppData\\Local\\Temp\\ipykernel_16848\\3442745241.py:80: MatplotlibDeprecationWarning: The get_cmap function was deprecated in Matplotlib 3.7 and will be removed in 3.11. Use ``matplotlib.colormaps[name]`` or ``matplotlib.colormaps.get_cmap()`` or ``pyplot.get_cmap()`` instead.\n",
      "  cmap = cm.get_cmap(cmap_name, 20)\n",
      "Building focus layers for USA:  70%|███████   | 54/77 [00:49<00:26,  1.13s/it]C:\\Users\\12693\\AppData\\Local\\Temp\\ipykernel_16848\\3442745241.py:80: MatplotlibDeprecationWarning: The get_cmap function was deprecated in Matplotlib 3.7 and will be removed in 3.11. Use ``matplotlib.colormaps[name]`` or ``matplotlib.colormaps.get_cmap()`` or ``pyplot.get_cmap()`` instead.\n",
      "  cmap = cm.get_cmap(cmap_name, 20)\n",
      "Building focus layers for USA:  71%|███████▏  | 55/77 [00:50<00:25,  1.14s/it]C:\\Users\\12693\\AppData\\Local\\Temp\\ipykernel_16848\\3442745241.py:80: MatplotlibDeprecationWarning: The get_cmap function was deprecated in Matplotlib 3.7 and will be removed in 3.11. Use ``matplotlib.colormaps[name]`` or ``matplotlib.colormaps.get_cmap()`` or ``pyplot.get_cmap()`` instead.\n",
      "  cmap = cm.get_cmap(cmap_name, 20)\n",
      "Building focus layers for USA:  73%|███████▎  | 56/77 [00:51<00:23,  1.14s/it]C:\\Users\\12693\\AppData\\Local\\Temp\\ipykernel_16848\\3442745241.py:80: MatplotlibDeprecationWarning: The get_cmap function was deprecated in Matplotlib 3.7 and will be removed in 3.11. Use ``matplotlib.colormaps[name]`` or ``matplotlib.colormaps.get_cmap()`` or ``pyplot.get_cmap()`` instead.\n",
      "  cmap = cm.get_cmap(cmap_name, 20)\n",
      "Building focus layers for USA:  74%|███████▍  | 57/77 [00:52<00:22,  1.14s/it]C:\\Users\\12693\\AppData\\Local\\Temp\\ipykernel_16848\\3442745241.py:80: MatplotlibDeprecationWarning: The get_cmap function was deprecated in Matplotlib 3.7 and will be removed in 3.11. Use ``matplotlib.colormaps[name]`` or ``matplotlib.colormaps.get_cmap()`` or ``pyplot.get_cmap()`` instead.\n",
      "  cmap = cm.get_cmap(cmap_name, 20)\n",
      "Building focus layers for USA:  75%|███████▌  | 58/77 [00:53<00:21,  1.14s/it]C:\\Users\\12693\\AppData\\Local\\Temp\\ipykernel_16848\\3442745241.py:80: MatplotlibDeprecationWarning: The get_cmap function was deprecated in Matplotlib 3.7 and will be removed in 3.11. Use ``matplotlib.colormaps[name]`` or ``matplotlib.colormaps.get_cmap()`` or ``pyplot.get_cmap()`` instead.\n",
      "  cmap = cm.get_cmap(cmap_name, 20)\n",
      "Building focus layers for USA:  77%|███████▋  | 59/77 [00:55<00:20,  1.14s/it]C:\\Users\\12693\\AppData\\Local\\Temp\\ipykernel_16848\\3442745241.py:80: MatplotlibDeprecationWarning: The get_cmap function was deprecated in Matplotlib 3.7 and will be removed in 3.11. Use ``matplotlib.colormaps[name]`` or ``matplotlib.colormaps.get_cmap()`` or ``pyplot.get_cmap()`` instead.\n",
      "  cmap = cm.get_cmap(cmap_name, 20)\n",
      "Building focus layers for USA:  78%|███████▊  | 60/77 [00:56<00:19,  1.16s/it]C:\\Users\\12693\\AppData\\Local\\Temp\\ipykernel_16848\\3442745241.py:80: MatplotlibDeprecationWarning: The get_cmap function was deprecated in Matplotlib 3.7 and will be removed in 3.11. Use ``matplotlib.colormaps[name]`` or ``matplotlib.colormaps.get_cmap()`` or ``pyplot.get_cmap()`` instead.\n",
      "  cmap = cm.get_cmap(cmap_name, 20)\n",
      "Building focus layers for USA:  79%|███████▉  | 61/77 [00:57<00:19,  1.23s/it]C:\\Users\\12693\\AppData\\Local\\Temp\\ipykernel_16848\\3442745241.py:80: MatplotlibDeprecationWarning: The get_cmap function was deprecated in Matplotlib 3.7 and will be removed in 3.11. Use ``matplotlib.colormaps[name]`` or ``matplotlib.colormaps.get_cmap()`` or ``pyplot.get_cmap()`` instead.\n",
      "  cmap = cm.get_cmap(cmap_name, 20)\n",
      "Building focus layers for USA:  81%|████████  | 62/77 [00:58<00:18,  1.25s/it]C:\\Users\\12693\\AppData\\Local\\Temp\\ipykernel_16848\\3442745241.py:80: MatplotlibDeprecationWarning: The get_cmap function was deprecated in Matplotlib 3.7 and will be removed in 3.11. Use ``matplotlib.colormaps[name]`` or ``matplotlib.colormaps.get_cmap()`` or ``pyplot.get_cmap()`` instead.\n",
      "  cmap = cm.get_cmap(cmap_name, 20)\n",
      "Building focus layers for USA:  82%|████████▏ | 63/77 [00:59<00:16,  1.16s/it]C:\\Users\\12693\\AppData\\Local\\Temp\\ipykernel_16848\\3442745241.py:80: MatplotlibDeprecationWarning: The get_cmap function was deprecated in Matplotlib 3.7 and will be removed in 3.11. Use ``matplotlib.colormaps[name]`` or ``matplotlib.colormaps.get_cmap()`` or ``pyplot.get_cmap()`` instead.\n",
      "  cmap = cm.get_cmap(cmap_name, 20)\n",
      "Building focus layers for USA:  83%|████████▎ | 64/77 [01:00<00:12,  1.02it/s]C:\\Users\\12693\\AppData\\Local\\Temp\\ipykernel_16848\\3442745241.py:80: MatplotlibDeprecationWarning: The get_cmap function was deprecated in Matplotlib 3.7 and will be removed in 3.11. Use ``matplotlib.colormaps[name]`` or ``matplotlib.colormaps.get_cmap()`` or ``pyplot.get_cmap()`` instead.\n",
      "  cmap = cm.get_cmap(cmap_name, 20)\n",
      "Building focus layers for USA:  84%|████████▍ | 65/77 [01:01<00:10,  1.16it/s]C:\\Users\\12693\\AppData\\Local\\Temp\\ipykernel_16848\\3442745241.py:80: MatplotlibDeprecationWarning: The get_cmap function was deprecated in Matplotlib 3.7 and will be removed in 3.11. Use ``matplotlib.colormaps[name]`` or ``matplotlib.colormaps.get_cmap()`` or ``pyplot.get_cmap()`` instead.\n",
      "  cmap = cm.get_cmap(cmap_name, 20)\n",
      "Building focus layers for USA:  86%|████████▌ | 66/77 [01:01<00:08,  1.29it/s]C:\\Users\\12693\\AppData\\Local\\Temp\\ipykernel_16848\\3442745241.py:80: MatplotlibDeprecationWarning: The get_cmap function was deprecated in Matplotlib 3.7 and will be removed in 3.11. Use ``matplotlib.colormaps[name]`` or ``matplotlib.colormaps.get_cmap()`` or ``pyplot.get_cmap()`` instead.\n",
      "  cmap = cm.get_cmap(cmap_name, 20)\n",
      "Building focus layers for USA:  87%|████████▋ | 67/77 [01:02<00:07,  1.40it/s]C:\\Users\\12693\\AppData\\Local\\Temp\\ipykernel_16848\\3442745241.py:80: MatplotlibDeprecationWarning: The get_cmap function was deprecated in Matplotlib 3.7 and will be removed in 3.11. Use ``matplotlib.colormaps[name]`` or ``matplotlib.colormaps.get_cmap()`` or ``pyplot.get_cmap()`` instead.\n",
      "  cmap = cm.get_cmap(cmap_name, 20)\n",
      "Building focus layers for USA:  88%|████████▊ | 68/77 [01:02<00:05,  1.51it/s]C:\\Users\\12693\\AppData\\Local\\Temp\\ipykernel_16848\\3442745241.py:80: MatplotlibDeprecationWarning: The get_cmap function was deprecated in Matplotlib 3.7 and will be removed in 3.11. Use ``matplotlib.colormaps[name]`` or ``matplotlib.colormaps.get_cmap()`` or ``pyplot.get_cmap()`` instead.\n",
      "  cmap = cm.get_cmap(cmap_name, 20)\n",
      "Building focus layers for USA:  90%|████████▉ | 69/77 [01:03<00:05,  1.60it/s]C:\\Users\\12693\\AppData\\Local\\Temp\\ipykernel_16848\\3442745241.py:80: MatplotlibDeprecationWarning: The get_cmap function was deprecated in Matplotlib 3.7 and will be removed in 3.11. Use ``matplotlib.colormaps[name]`` or ``matplotlib.colormaps.get_cmap()`` or ``pyplot.get_cmap()`` instead.\n",
      "  cmap = cm.get_cmap(cmap_name, 20)\n",
      "Building focus layers for USA:  91%|█████████ | 70/77 [01:03<00:04,  1.65it/s]C:\\Users\\12693\\AppData\\Local\\Temp\\ipykernel_16848\\3442745241.py:80: MatplotlibDeprecationWarning: The get_cmap function was deprecated in Matplotlib 3.7 and will be removed in 3.11. Use ``matplotlib.colormaps[name]`` or ``matplotlib.colormaps.get_cmap()`` or ``pyplot.get_cmap()`` instead.\n",
      "  cmap = cm.get_cmap(cmap_name, 20)\n",
      "Building focus layers for USA:  92%|█████████▏| 71/77 [01:04<00:03,  1.70it/s]C:\\Users\\12693\\AppData\\Local\\Temp\\ipykernel_16848\\3442745241.py:80: MatplotlibDeprecationWarning: The get_cmap function was deprecated in Matplotlib 3.7 and will be removed in 3.11. Use ``matplotlib.colormaps[name]`` or ``matplotlib.colormaps.get_cmap()`` or ``pyplot.get_cmap()`` instead.\n",
      "  cmap = cm.get_cmap(cmap_name, 20)\n",
      "Building focus layers for USA:  94%|█████████▎| 72/77 [01:04<00:02,  1.76it/s]C:\\Users\\12693\\AppData\\Local\\Temp\\ipykernel_16848\\3442745241.py:80: MatplotlibDeprecationWarning: The get_cmap function was deprecated in Matplotlib 3.7 and will be removed in 3.11. Use ``matplotlib.colormaps[name]`` or ``matplotlib.colormaps.get_cmap()`` or ``pyplot.get_cmap()`` instead.\n",
      "  cmap = cm.get_cmap(cmap_name, 20)\n",
      "Building focus layers for USA:  95%|█████████▍| 73/77 [01:05<00:02,  1.76it/s]C:\\Users\\12693\\AppData\\Local\\Temp\\ipykernel_16848\\3442745241.py:80: MatplotlibDeprecationWarning: The get_cmap function was deprecated in Matplotlib 3.7 and will be removed in 3.11. Use ``matplotlib.colormaps[name]`` or ``matplotlib.colormaps.get_cmap()`` or ``pyplot.get_cmap()`` instead.\n",
      "  cmap = cm.get_cmap(cmap_name, 20)\n",
      "Building focus layers for USA:  96%|█████████▌| 74/77 [01:06<00:01,  1.77it/s]C:\\Users\\12693\\AppData\\Local\\Temp\\ipykernel_16848\\3442745241.py:80: MatplotlibDeprecationWarning: The get_cmap function was deprecated in Matplotlib 3.7 and will be removed in 3.11. Use ``matplotlib.colormaps[name]`` or ``matplotlib.colormaps.get_cmap()`` or ``pyplot.get_cmap()`` instead.\n",
      "  cmap = cm.get_cmap(cmap_name, 20)\n",
      "Building focus layers for USA:  97%|█████████▋| 75/77 [01:06<00:01,  1.76it/s]C:\\Users\\12693\\AppData\\Local\\Temp\\ipykernel_16848\\3442745241.py:80: MatplotlibDeprecationWarning: The get_cmap function was deprecated in Matplotlib 3.7 and will be removed in 3.11. Use ``matplotlib.colormaps[name]`` or ``matplotlib.colormaps.get_cmap()`` or ``pyplot.get_cmap()`` instead.\n",
      "  cmap = cm.get_cmap(cmap_name, 20)\n",
      "Building focus layers for USA:  99%|█████████▊| 76/77 [01:07<00:00,  1.78it/s]C:\\Users\\12693\\AppData\\Local\\Temp\\ipykernel_16848\\3442745241.py:80: MatplotlibDeprecationWarning: The get_cmap function was deprecated in Matplotlib 3.7 and will be removed in 3.11. Use ``matplotlib.colormaps[name]`` or ``matplotlib.colormaps.get_cmap()`` or ``pyplot.get_cmap()`` instead.\n",
      "  cmap = cm.get_cmap(cmap_name, 20)\n",
      "Building focus layers for USA: 100%|██████████| 77/77 [01:07<00:00,  1.14it/s]\n"
     ]
    },
    {
     "name": "stdout",
     "output_type": "stream",
     "text": [
      "✅ Saved → focus_slider_USA_1948_2024.html\n"
     ]
    }
   ],
   "source": [
    "# -*- coding: utf-8 -*-\n",
    "\"\"\"\n",
    "IMF IMTS CSV → 全球出口网络社区结构 (多年份滑块)\n",
    "================================================\n",
    "\n",
    "* 读取 IMF IMTS Timeseries-per-row CSV\n",
    "* Louvain 社区划分 → 各社区着不同颜色\n",
    "* Folium + 自定义年份滑块切换视图\n",
    "\"\"\"\n",
    "\n",
    "from __future__ import annotations\n",
    "from pathlib import Path\n",
    "from typing import Dict, Tuple\n",
    "\n",
    "import pandas as pd\n",
    "import networkx as nx\n",
    "from community import community_louvain          # Louvain\n",
    "import folium\n",
    "from folium.plugins import AntPath\n",
    "from branca.element import MacroElement, Template\n",
    "from matplotlib import cm, colors\n",
    "from tqdm import tqdm\n",
    "\n",
    "# ---------- 参数 ----------\n",
    "FILE_CSV   = \"IMF_IMTS_Exports_1948_2024.csv\"\n",
    "COORD_CSV  = \"iso3_to_latlon.csv\"\n",
    "YEAR_START, YEAR_END = 1948, 2024\n",
    "TOP_K_EDGE = 2000          # 为减轻可视化负担，仅取前 K 条出口额边\n",
    "EDGE_OPACITY = 1          # 边透明度（跨社区变淡）  \n",
    "MIN_TRADE   = None        # 若想滤掉过小贸易额，可设阈值\n",
    "COUNTRY = \"JPN\"            # 关注的国家（可选）\n",
    "# ---------- 坐标 ----------\n",
    "def load_coord(filepath: str | Path) -> Dict[str, Tuple[float, float]]:\n",
    "    df = pd.read_csv(filepath)\n",
    "    out = {}\n",
    "    for _, r in df.iterrows():\n",
    "        lat, lon = r.Lat, r.Lon\n",
    "        if pd.isna(lat) or pd.isna(lon):\n",
    "            continue  # 丢弃无效坐标\n",
    "        out[r.ISO3] = (lat, lon)\n",
    "    return out\n",
    "\n",
    "coord = load_coord(COORD_CSV)\n",
    "\n",
    "# ---------- 加载年度数据 ----------\n",
    "def load_year(csv: str | Path, year: int) -> pd.DataFrame:\n",
    "    cols = [\"COUNTRY.ID\", \"COUNTERPART_COUNTRY.ID\", str(year)]\n",
    "    df = (pd.read_csv(csv, low_memory=False)[cols]\n",
    "          .rename(columns={\"COUNTRY.ID\": \"src\",\n",
    "                           \"COUNTERPART_COUNTRY.ID\": \"dst\",\n",
    "                           str(year): \"value\"})  # ← 统一命名\n",
    "          .dropna(subset=[\"value\"]))  # 先丢掉值为空的行\n",
    "    df = df[(df.value > 0) & (df.src != df.dst)]  # 排除自引用行\n",
    "\n",
    "    # ----- 过滤 src 和 dst 是否有有效坐标 -----\n",
    "    df = df[df['src'].isin(coord.keys()) & df['dst'].isin(coord.keys())]\n",
    "    \n",
    "    if MIN_TRADE is not None:\n",
    "        df = df[df.value > MIN_TRADE]\n",
    "    return df.reset_index(drop=True)\n",
    "\n",
    "# ---------- 构建 Louvain 划分 ----------\n",
    "def detect_communities(df: pd.DataFrame) -> Dict[str, int]:\n",
    "    G = nx.Graph()\n",
    "    for _, r in df.iterrows():\n",
    "        G.add_edge(r.src, r.dst, weight=r.value)\n",
    "    return community_louvain.best_partition(G, weight='weight')\n",
    "\n",
    "def gen_palette(n_comm: int) -> list[str]:\n",
    "    \"\"\"\n",
    "    生成不包含红色系的调色板（排除容易与跨区边红色混淆的颜色）。\n",
    "    使用 matplotlib 的 tab20 / tab20b / tab20c 联合拼接。\n",
    "    \"\"\"\n",
    "    exclude_hues = {\"#d62728\", \"#e31a1c\", \"#ff7f0e\", \"#f15a60\", \"#f28e2b\", \"#e15759\"}  # 红/橙/粉\n",
    "    seen = set()\n",
    "    palette = []\n",
    "\n",
    "    # 联合多个 colormap，以确保足够颜色\n",
    "    for cmap_name in [\"tab20\", \"tab20b\", \"tab20c\", \"Set3\"]:\n",
    "        cmap = cm.get_cmap(cmap_name, 20)\n",
    "        for i in range(cmap.N):\n",
    "            hex_color = colors.rgb2hex(cmap(i))\n",
    "            if hex_color in exclude_hues or hex_color in seen:\n",
    "                continue\n",
    "            seen.add(hex_color)\n",
    "            palette.append(hex_color)\n",
    "            if len(palette) >= n_comm:\n",
    "                return palette\n",
    "\n",
    "    raise ValueError(\"Too many communities – not enough safe colors without red tones.\")\n",
    "\n",
    "# ---------- 滑块 ----------\n",
    "class YearSlider(MacroElement):\n",
    "    _template = Template(\"\"\"\n",
    "    {% macro script(this,kwargs) %}\n",
    "        var slider = L.DomUtil.create('div', 'year-slider');\n",
    "        slider.innerHTML = '<input type=\"range\" min=\"{{this.min}}\" max=\"{{this.max}}\" value=\"{{this.val}}\" id=\"ys\"> <span id=\"yl\">{{this.val}}</span>';\n",
    "        slider.style.position = 'fixed'; slider.style.bottom = '50px'; slider.style.left = '50px';\n",
    "        slider.style.background='white'; slider.style.padding='8px'; slider.style.zIndex='9999';\n",
    "        slider.style.borderRadius='4px'; slider.style.boxShadow='0 0 10px rgba(0,0,0,.3)';\n",
    "        L.DomEvent.disableClickPropagation(slider);\n",
    "        L.DomEvent.disableScrollPropagation(slider);\n",
    "        {{this._parent.get_name()}}.getContainer().appendChild(slider);\n",
    "\n",
    "        var layers = {\n",
    "        {% for y,n in this.names.items() %}\n",
    "            \"{{y}}\": {{n}},\n",
    "        {% endfor %}\n",
    "        };\n",
    "\n",
    "        function show(y){\n",
    "            Object.keys(layers).forEach(k=>{\n",
    "                if(k===y){ if(!{{this._parent.get_name()}}.hasLayer(layers[k])) {{this._parent.get_name()}}.addLayer(layers[k]); }\n",
    "                else { if({{this._parent.get_name()}}.hasLayer(layers[k])) {{this._parent.get_name()}}.removeLayer(layers[k]); }\n",
    "            });\n",
    "        }\n",
    "        document.getElementById('ys').addEventListener('input',e=>{\n",
    "            var y=e.target.value; document.getElementById('yl').innerHTML=y; show(y);\n",
    "        });\n",
    "        show(String({{this.val}}));\n",
    "    {% endmacro %}\n",
    "    \"\"\")\n",
    "\n",
    "    def __init__(self, names: Dict[int,str], start:int, end:int):\n",
    "        super().__init__()\n",
    "        self.names, self.val, self.min, self.max = names, start, start, end\n",
    "\n",
    "# ------------------------------------------------------------\n",
    "# ★★ 新增：仅绘制「focus_iso 所在社区 + 与 focus_iso 相连的社区外节点」的图层\n",
    "# ------------------------------------------------------------\n",
    "def build_focus_layer(df: pd.DataFrame,\n",
    "                      year: int,\n",
    "                      focus_iso: str = \"CHN\",\n",
    "                      top_k: int = TOP_K_EDGE) -> folium.FeatureGroup:\n",
    "    \"\"\"\n",
    "    只绘制 focus_iso 所在 Louvain 社区中的节点，以及社区外与 focus_iso 有边的节点，\n",
    "    并绘制这些节点相关的边（社区内全连 + focus_iso 的跨社区连边）。\n",
    "    \"\"\"\n",
    "    df = df.nlargest(top_k, \"value\")          # 取前 K 条边\n",
    "    part = detect_communities(df)             # Louvain 划分\n",
    "    if focus_iso not in part:\n",
    "        raise ValueError(f\"{focus_iso} not found in partition for year {year}\")\n",
    "\n",
    "    comm_ids      = sorted(set(part.values()))\n",
    "    palette       = gen_palette(len(comm_ids))\n",
    "    comm_color    = {cid: palette[i] for i, cid in enumerate(comm_ids)}\n",
    "\n",
    "    focus_comm_id = part[focus_iso]\n",
    "\n",
    "    # ---- 1) 要绘制的节点 --------------------------------------------------\n",
    "    nodes_comm    = {n for n, c in part.items() if c == focus_comm_id}\n",
    "    nodes_external= {r.dst for _, r in df.iterrows() if r.src == focus_iso and part[r.dst] != focus_comm_id} | \\\n",
    "                    {r.src for _, r in df.iterrows() if r.dst == focus_iso and part[r.src] != focus_comm_id}\n",
    "    nodes_draw    = nodes_comm | nodes_external\n",
    "\n",
    "    # ---- 2) 要绘制的边 ----------------------------------------------------\n",
    "    def keep_edge(row) -> bool:\n",
    "        a, b = row.src, row.dst\n",
    "        # 社区内边 or focus_iso 跨社区边\n",
    "        if a in nodes_comm and b in nodes_comm:\n",
    "            return True\n",
    "        if (a == focus_iso and b in nodes_external) or (b == focus_iso and a in nodes_external):\n",
    "            return True\n",
    "        return False\n",
    "\n",
    "    edges_df = df[df.apply(keep_edge, axis=1)]\n",
    "\n",
    "    # ---- 3) 通用映射函数 ---------------------------------------------------\n",
    "    vmin, vmax = edges_df[\"value\"].min(), edges_df[\"value\"].max()\n",
    "    norm       = colors.Normalize(vmin=max(vmin, 1), vmax=vmax)\n",
    "    edge_weight= lambda val: 0.6 + 3 * norm(val)\n",
    "    out_sum    = df.groupby(\"src\")[\"value\"].sum()\n",
    "\n",
    "    fg = folium.FeatureGroup(name=f\"{year} Focus ({focus_iso})\", show=True)\n",
    "\n",
    "    # ---- 3a. 绘节点 -------------------------------------------------------\n",
    "    for iso in nodes_draw:\n",
    "        if iso not in coord:         # 理论上已过滤，但再保险\n",
    "            continue\n",
    "        lat, lon = coord[iso]\n",
    "        if pd.isna(lat):             # 跳过无坐标\n",
    "            continue\n",
    "        radius = max(3, (out_sum.get(iso, 0) ** 0.5) / 150)\n",
    "        color  = comm_color[part[iso]]\n",
    "        folium.CircleMarker(\n",
    "            [lat, lon], radius=radius,\n",
    "            color=color, weight=2,\n",
    "            fill=True, fill_color=color, fill_opacity=0.7,\n",
    "            tooltip=f\"{iso} (comm {part[iso]})\\n{out_sum.get(iso,0):,.0f} USD exports\"\n",
    "        ).add_to(fg)\n",
    "\n",
    "    # ---- 3b. 绘边 ---------------------------------------------------------\n",
    "    for _, r in edges_df.iterrows():\n",
    "        lat1, lon1 = coord[r.src]\n",
    "        lat2, lon2 = coord[r.dst]\n",
    "        same_comm  = part[r.src] == part[r.dst]\n",
    "        edge_col   = comm_color[part[r.src]] if same_comm else \"red\"\n",
    "        opacity    = 1.0 if same_comm else 0.5\n",
    "        folium.PolyLine(\n",
    "            [[lat1, lon1], [lat2, lon2]],\n",
    "            weight=edge_weight(r.value),\n",
    "            color=edge_col,\n",
    "            opacity=opacity\n",
    "        ).add_to(fg)\n",
    "\n",
    "    return fg\n",
    "\n",
    "def main_focus_slider(focus_iso: str = \"CHN\",\n",
    "                      year_start: int = 2020,\n",
    "                      year_end: int = 2024,\n",
    "                      top_k: int = TOP_K_EDGE):\n",
    "    \"\"\"\n",
    "    多年份滑动视图：每年只绘制 focus_iso 所在社区 + 与其相连的跨社区节点及边\n",
    "    \"\"\"\n",
    "    m = folium.Map(location=[20, 0], zoom_start=2, tiles='cartodbpositron')\n",
    "    names = {}\n",
    "\n",
    "    for y in tqdm(range(year_start, year_end + 1), desc=f\"Building focus layers for {focus_iso}\"):\n",
    "        df = load_year(FILE_CSV, y)\n",
    "        try:\n",
    "            fg = build_focus_layer(df, year=y, focus_iso=focus_iso, top_k=top_k)\n",
    "        except ValueError:\n",
    "            print(f\"⚠️ {focus_iso} not found in year {y}, skipping...\")\n",
    "            continue\n",
    "        fg.add_to(m)\n",
    "        names[y] = fg.get_name()\n",
    "\n",
    "    # 添加滑块\n",
    "    m.add_child(YearSlider(names, year_start, year_end))\n",
    "\n",
    "    # 添加标题和图例\n",
    "    m.get_root().html.add_child(folium.Element(\n",
    "        f\"<h4 style='text-align:center;font-size:20px'>Trade Focus: {focus_iso} ({year_start}–{year_end})</h4>\"\n",
    "    ))\n",
    "\n",
    "    legend = f\"\"\"\n",
    "        <div style=\"position: fixed; top: 50px; right: 80px; z-index: 9999;\n",
    "                    background: white; padding: 10px 14px; border-radius: 6px;\n",
    "                    font-size: 13px; box-shadow: 0 0 8px rgba(0,0,0,.3);\">\n",
    "            <b>Legend</b><br>\n",
    "            <span style=\"display:inline-block;width:12px;height:12px;\n",
    "                         background:red;margin-right:4px;\"></span>\n",
    "            Cross-community links from {focus_iso}<br>\n",
    "            <span style=\"display:inline-block;width:12px;height:12px;\n",
    "                         background:#666;margin-right:4px;border:1px solid #666;\"></span>\n",
    "            Same-community links\n",
    "        </div>\n",
    "    \"\"\"\n",
    "    m.get_root().html.add_child(folium.Element(legend))\n",
    "\n",
    "    out = f\"focus_slider_{focus_iso}_{year_start}_{year_end}.html\"\n",
    "    m.save(out)\n",
    "    print(\"✅ Saved →\", out)\n",
    "\n",
    "if __name__ == \"__main__\":\n",
    "    main_focus_slider(focus_iso=COUNTRY, year_start=YEAR_START, year_end=YEAR_END, top_k=TOP_K_EDGE)\n",
    "\n"
   ]
  }
 ],
 "metadata": {
  "kernelspec": {
   "display_name": "network_science",
   "language": "python",
   "name": "python3"
  },
  "language_info": {
   "codemirror_mode": {
    "name": "ipython",
    "version": 3
   },
   "file_extension": ".py",
   "mimetype": "text/x-python",
   "name": "python",
   "nbconvert_exporter": "python",
   "pygments_lexer": "ipython3",
   "version": "3.13.2"
  }
 },
 "nbformat": 4,
 "nbformat_minor": 5
}
